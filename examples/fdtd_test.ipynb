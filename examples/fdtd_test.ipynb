{
 "cells": [
  {
   "cell_type": "markdown",
   "metadata": {},
   "source": [
    "# FDTD 2D basic routine tests"
   ]
  },
  {
   "cell_type": "code",
   "execution_count": 1,
   "metadata": {},
   "outputs": [],
   "source": [
    "import numpy as np\n",
    "from matplotlib import pyplot as plt\n",
    "\n",
    "from sympy import symbols, sin, cos, tan ,exp\n",
    "from sympy import lambdify\n",
    "from sympy import S\n",
    "import sympy as sp\n",
    "\n",
    "#from test_fdtd import *"
   ]
  },
  {
   "cell_type": "markdown",
   "metadata": {},
   "source": [
    "---"
   ]
  },
  {
   "cell_type": "code",
   "execution_count": 2,
   "metadata": {},
   "outputs": [],
   "source": [
    "x, y, z = sp.symbols(\"x, y, z\")"
   ]
  },
  {
   "cell_type": "code",
   "execution_count": 3,
   "metadata": {},
   "outputs": [],
   "source": [
    "M = sp.Matrix([[x, y, z], [x*y, y*z, x**2], [z/(x+1), y*z, x]])"
   ]
  },
  {
   "cell_type": "code",
   "execution_count": 4,
   "metadata": {},
   "outputs": [],
   "source": [
    "func_m = sp.lambdify([x, y ,z], M, modules=\"numpy\")"
   ]
  },
  {
   "cell_type": "code",
   "execution_count": 5,
   "metadata": {},
   "outputs": [
    {
     "data": {
      "text/plain": [
       "array([[[1., 1., 1.],\n",
       "        [1., 2., 3.],\n",
       "        [0., 0., 0.]],\n",
       "\n",
       "       [[1., 2., 3.],\n",
       "        [0., 0., 0.],\n",
       "        [1., 1., 1.]],\n",
       "\n",
       "       [[0., 0., 0.],\n",
       "        [0., 0., 0.],\n",
       "        [1., 1., 1.]]])"
      ]
     },
     "execution_count": 5,
     "metadata": {},
     "output_type": "execute_result"
    }
   ],
   "source": [
    "func_m(np.ones(3), np.array([1, 2, 3]), np.zeros(3))"
   ]
  },
  {
   "cell_type": "code",
   "execution_count": 6,
   "metadata": {},
   "outputs": [
    {
     "data": {
      "text/latex": [
       "$\\displaystyle \\left[\\begin{matrix}x & y & z\\\\x y & y z & x^{2}\\\\\\frac{z}{x + 1} & y z & x\\end{matrix}\\right]$"
      ],
      "text/plain": [
       "Matrix([\n",
       "[        x,   y,    z],\n",
       "[      x*y, y*z, x**2],\n",
       "[z/(x + 1), y*z,    x]])"
      ]
     },
     "execution_count": 6,
     "metadata": {},
     "output_type": "execute_result"
    }
   ],
   "source": [
    "M"
   ]
  },
  {
   "cell_type": "code",
   "execution_count": 7,
   "metadata": {},
   "outputs": [
    {
     "data": {
      "text/plain": [
       "[[x, y, z], [x*y, y*z, x**2], [z/(x + 1), y*z, x]]"
      ]
     },
     "execution_count": 7,
     "metadata": {},
     "output_type": "execute_result"
    }
   ],
   "source": [
    "M.tolist()"
   ]
  },
  {
   "cell_type": "code",
   "execution_count": 8,
   "metadata": {},
   "outputs": [
    {
     "ename": "NameError",
     "evalue": "name 'M_cal_xyz' is not defined",
     "output_type": "error",
     "traceback": [
      "\u001b[1;31m---------------------------------------------------------------------------\u001b[0m",
      "\u001b[1;31mNameError\u001b[0m                                 Traceback (most recent call last)",
      "Cell \u001b[1;32mIn[8], line 1\u001b[0m\n\u001b[1;32m----> 1\u001b[0m sp\u001b[39m.\u001b[39msimplify(M_cal_xyz)\n",
      "\u001b[1;31mNameError\u001b[0m: name 'M_cal_xyz' is not defined"
     ]
    }
   ],
   "source": [
    "sp.simplify(M_cal_xyz)"
   ]
  },
  {
   "cell_type": "code",
   "execution_count": null,
   "metadata": {},
   "outputs": [
    {
     "data": {
      "text/plain": [
       "[[1.0*(x**2 + y**2*(x**2 + y**2))/(x**2 + y**2)**(3/2),\n",
       "  1.0*x*y*(-x**2 - y**2 + 1)/(x**2 + y**2)**(3/2),\n",
       "  0],\n",
       " [1.0*x*y*(-x**2 - y**2 + 1)/(x**2 + y**2)**(3/2),\n",
       "  1.0*(x**2*(x**2 + y**2) + y**2)/(x**2 + y**2)**(3/2),\n",
       "  0],\n",
       " [0, 0, 1.0/sqrt(x**2 + y**2)]]"
      ]
     },
     "execution_count": 163,
     "metadata": {},
     "output_type": "execute_result"
    }
   ],
   "source": [
    "M_cal_xyz.tolist()"
   ]
  },
  {
   "cell_type": "code",
   "execution_count": null,
   "metadata": {},
   "outputs": [
    {
     "data": {
      "text/plain": [
       "[[1.0*(x**2 + y**2*(x**2 + y**2))/(x**2 + y**2)**(3/2),\n",
       "  1.0*x*y*(-x**2 - y**2 + 1)/(x**2 + y**2)**(3/2),\n",
       "  0],\n",
       " [1.0*x*y*(-x**2 - y**2 + 1)/(x**2 + y**2)**(3/2),\n",
       "  1.0*(x**2*(x**2 + y**2) + y**2)/(x**2 + y**2)**(3/2),\n",
       "  0],\n",
       " [0, 0, 1.0/sqrt(x**2 + y**2)]]"
      ]
     },
     "execution_count": 162,
     "metadata": {},
     "output_type": "execute_result"
    }
   ],
   "source": [
    "[[*M_cal_xyz[:3]], [*M_cal_xyz[3:6]], [*M_cal_xyz[6:9]]]"
   ]
  },
  {
   "cell_type": "code",
   "execution_count": 9,
   "metadata": {},
   "outputs": [
    {
     "ename": "NameError",
     "evalue": "name 'xyz_s' is not defined",
     "output_type": "error",
     "traceback": [
      "\u001b[1;31m---------------------------------------------------------------------------\u001b[0m",
      "\u001b[1;31mNameError\u001b[0m                                 Traceback (most recent call last)",
      "Cell \u001b[1;32mIn[9], line 1\u001b[0m\n\u001b[1;32m----> 1\u001b[0m func_xy \u001b[39m=\u001b[39m sp\u001b[39m.\u001b[39mlambdify(xyz_s[:\u001b[39m2\u001b[39m], M_cal_xyz\u001b[39m.\u001b[39mtolist(), modules\u001b[39m=\u001b[39m\u001b[39m\"\u001b[39m\u001b[39mnumpy\u001b[39m\u001b[39m\"\u001b[39m)\n",
      "\u001b[1;31mNameError\u001b[0m: name 'xyz_s' is not defined"
     ]
    }
   ],
   "source": [
    "func_xy = sp.lambdify(xyz_s[:2], M_cal_xyz.tolist(), modules=\"numpy\")"
   ]
  },
  {
   "cell_type": "code",
   "execution_count": 10,
   "metadata": {},
   "outputs": [
    {
     "ename": "NameError",
     "evalue": "name 'func_xy' is not defined",
     "output_type": "error",
     "traceback": [
      "\u001b[1;31m---------------------------------------------------------------------------\u001b[0m",
      "\u001b[1;31mNameError\u001b[0m                                 Traceback (most recent call last)",
      "Cell \u001b[1;32mIn[10], line 1\u001b[0m\n\u001b[1;32m----> 1\u001b[0m result \u001b[39m=\u001b[39m (func_xy(X, Y))\n",
      "\u001b[1;31mNameError\u001b[0m: name 'func_xy' is not defined"
     ]
    }
   ],
   "source": [
    "result = (func_xy(X, Y))"
   ]
  },
  {
   "cell_type": "markdown",
   "metadata": {},
   "source": [
    "---"
   ]
  },
  {
   "cell_type": "code",
   "execution_count": 11,
   "metadata": {},
   "outputs": [],
   "source": [
    "import os\n",
    "import sys\n",
    "module_path = os.path.abspath(os.path.join('..'))\n",
    "if module_path not in sys.path:\n",
    "    sys.path.append(module_path)\n"
   ]
  },
  {
   "cell_type": "code",
   "execution_count": 12,
   "metadata": {},
   "outputs": [],
   "source": [
    "from imfdtd.utils import *"
   ]
  },
  {
   "cell_type": "markdown",
   "metadata": {},
   "source": [
    "## Jacobian for metric tensor\n",
    "\n",
    "From the coordinate transform matrix $\\Lambda$, we have next transform of metric matrices, $G', G_c$.\n",
    "\n",
    "$$G' = \\Lambda G_c \\Lambda^T$$\n",
    "\n",
    "We know that the cartessian metric is idensity metric, Kroneker delta, the $G_c = I$.\n",
    "\n",
    "Therefore, we have general metric representation in matrix form as \n",
    "\n",
    "$$G' = \\Lambda \\Lambda^T$$\n",
    "\n",
    "Some metrices are more convinence if we represent them with transfomation from spherical or cylinderical coordinate values. In such case, \n",
    "\n",
    "$$G' = \\Lambda (\\Lambda_c \\Lambda_c^T)\\Lambda^T$$"
   ]
  },
  {
   "cell_type": "code",
   "execution_count": 13,
   "metadata": {},
   "outputs": [],
   "source": [
    "xyz_s, cylin_s, sph_s = get_basic_coordinates()"
   ]
  },
  {
   "cell_type": "code",
   "execution_count": 14,
   "metadata": {},
   "outputs": [
    {
     "name": "stdout",
     "output_type": "stream",
     "text": [
      "[sqrt(x**2 + y**2), atan(y/x), z]\n",
      "[sqrt(x**2 + y**2 + z**2), atan(sqrt(x**2 + y**2)/z), atan(y/x)]\n"
     ]
    }
   ],
   "source": [
    "print(basic_coord_transform_eqs(xyz_s, \"xyz\", \"cylinder\"))\n",
    "print(basic_coord_transform_eqs(xyz_s, \"xyz\", \"spherical\"))"
   ]
  },
  {
   "cell_type": "code",
   "execution_count": 15,
   "metadata": {},
   "outputs": [
    {
     "name": "stdout",
     "output_type": "stream",
     "text": [
      "[r*cos(\\phi), r*sin(\\phi), z]\n",
      "[sqrt(r**2 + z**2), \\phi, atan(r/z)]\n"
     ]
    }
   ],
   "source": [
    "print(basic_coord_transform_eqs(cylin_s, \"cylinder\", \"xyz\"))\n",
    "print(basic_coord_transform_eqs(cylin_s, \"cylinder\", \"spherical\"))"
   ]
  },
  {
   "cell_type": "code",
   "execution_count": 16,
   "metadata": {},
   "outputs": [
    {
     "name": "stdout",
     "output_type": "stream",
     "text": [
      "[r_s*sin(\\phi_s)*cos(\\theta_s), r_s*sin(\\phi_s)*sin(\\theta_s), r_s*cos(\\phi_s)]\n",
      "[r_s*sin(\\theta_s), \\phi_s, r_s*cos(\\theta_s)]\n"
     ]
    }
   ],
   "source": [
    "print(basic_coord_transform_eqs(sph_s, \"spherical\", \"xyz\"))\n",
    "print(basic_coord_transform_eqs(sph_s, \"spherical\", \"cylinder\"))"
   ]
  },
  {
   "cell_type": "code",
   "execution_count": 17,
   "metadata": {},
   "outputs": [
    {
     "data": {
      "text/plain": [
       "((x, y, z), [r, \\phi, z], [r_s, \\phi_s, \\theta_s])"
      ]
     },
     "execution_count": 17,
     "metadata": {},
     "output_type": "execute_result"
    }
   ],
   "source": [
    "xyz_s, cylin_s, sph_s"
   ]
  },
  {
   "cell_type": "code",
   "execution_count": 18,
   "metadata": {},
   "outputs": [],
   "source": [
    "rs, phis, thetas = sph_s"
   ]
  },
  {
   "cell_type": "markdown",
   "metadata": {},
   "source": [
    "Jacobian\n",
    "\n",
    "$$\\Lambda_p^q = \\mathbf{J}_{p \\rightarrow q} = \\frac{\\partial (p_1, p_2, p_3, ..., p_m)}{\\partial (q_1, q_2, q_3, ..., q_n)}\\\\\n",
    " \\\\\n",
    "= \\begin{bmatrix} \n",
    "\\frac{\\partial p_1}{\\partial q_1} & \\frac{\\partial p_1}{\\partial q_2}&\\cdots & \\frac{\\partial p_1}{\\partial q_n} \\\\\n",
    "\\frac{\\partial p_2}{\\partial q_1} & \\frac{\\partial p_2}{\\partial q_2}&\\cdots & \\frac{\\partial p_2}{\\partial q_n} \\\\\n",
    "\\vdots & \\vdots & \\ddots & \\vdots \\\\\n",
    "\\frac{\\partial p_m}{\\partial q_1} & \\frac{\\partial p_m}{\\partial q_2}&\\cdots & \\frac{\\partial p_m}{\\partial q_n}\n",
    "\\end{bmatrix}$$\n",
    "\n",
    "$$\\mathbf{J}_{p \\rightarrow q}  = \\Lambda_p^r \\Lambda_r^q = \\mathbf{J}_{p \\rightarrow r} \\mathbf{J}_{r \\rightarrow q} $$"
   ]
  },
  {
   "cell_type": "code",
   "execution_count": 19,
   "metadata": {},
   "outputs": [
    {
     "name": "stdout",
     "output_type": "stream",
     "text": [
      "Spehrical to Cartesian Cooridnate\n"
     ]
    },
    {
     "data": {
      "text/latex": [
       "$\\displaystyle \\left[\\begin{matrix}\\sin{\\left(\\phi_{s} \\right)} \\cos{\\left(\\theta_{s} \\right)} & r_{s} \\cos{\\left(\\phi_{s} \\right)} \\cos{\\left(\\theta_{s} \\right)} & - r_{s} \\sin{\\left(\\phi_{s} \\right)} \\sin{\\left(\\theta_{s} \\right)}\\\\\\sin{\\left(\\phi_{s} \\right)} \\sin{\\left(\\theta_{s} \\right)} & r_{s} \\sin{\\left(\\theta_{s} \\right)} \\cos{\\left(\\phi_{s} \\right)} & r_{s} \\sin{\\left(\\phi_{s} \\right)} \\cos{\\left(\\theta_{s} \\right)}\\\\\\cos{\\left(\\phi_{s} \\right)} & - r_{s} \\sin{\\left(\\phi_{s} \\right)} & 0\\end{matrix}\\right]$"
      ],
      "text/plain": [
       "Matrix([\n",
       "[sin(\\phi_s)*cos(\\theta_s), r_s*cos(\\phi_s)*cos(\\theta_s), -r_s*sin(\\phi_s)*sin(\\theta_s)],\n",
       "[sin(\\phi_s)*sin(\\theta_s), r_s*sin(\\theta_s)*cos(\\phi_s),  r_s*sin(\\phi_s)*cos(\\theta_s)],\n",
       "[              cos(\\phi_s),              -r_s*sin(\\phi_s),                              0]])"
      ]
     },
     "execution_count": 19,
     "metadata": {},
     "output_type": "execute_result"
    }
   ],
   "source": [
    "# Calculate jacobian using \"get_jacobian\" routine. \n",
    "# you can calulate arbitary q, p values with equations arguments.\n",
    "# get_jacobian(qs, eqs)\n",
    "# Spherical to Cartessian\n",
    "qs = sph_s\n",
    "eqs_s = basic_coord_transform_eqs(qs, \"spherical\", \"xyz\")\n",
    "sp_to_xyz = get_jacobian(qs, eqs_s)\n",
    "print(\"Spehrical to Cartesian Cooridnate\")\n",
    "sp_to_xyz"
   ]
  },
  {
   "cell_type": "code",
   "execution_count": 20,
   "metadata": {},
   "outputs": [
    {
     "name": "stdout",
     "output_type": "stream",
     "text": [
      "Cartesian to Spehrical Cooridnate\n"
     ]
    },
    {
     "data": {
      "text/latex": [
       "$\\displaystyle \\left[\\begin{matrix}\\frac{x}{\\sqrt{x^{2} + y^{2} + z^{2}}} & \\frac{y}{\\sqrt{x^{2} + y^{2} + z^{2}}} & \\frac{z}{\\sqrt{x^{2} + y^{2} + z^{2}}}\\\\\\frac{x z}{\\sqrt{x^{2} + y^{2}} \\left(x^{2} + y^{2} + z^{2}\\right)} & \\frac{y z}{\\sqrt{x^{2} + y^{2}} \\left(x^{2} + y^{2} + z^{2}\\right)} & - \\frac{\\sqrt{x^{2} + y^{2}}}{x^{2} + y^{2} + z^{2}}\\\\- \\frac{y}{x^{2} + y^{2}} & \\frac{x}{x^{2} + y^{2}} & 0\\end{matrix}\\right]$"
      ],
      "text/plain": [
       "Matrix([\n",
       "[                  x/sqrt(x**2 + y**2 + z**2),                   y/sqrt(x**2 + y**2 + z**2),              z/sqrt(x**2 + y**2 + z**2)],\n",
       "[x*z/(sqrt(x**2 + y**2)*(x**2 + y**2 + z**2)), y*z/(sqrt(x**2 + y**2)*(x**2 + y**2 + z**2)), -sqrt(x**2 + y**2)/(x**2 + y**2 + z**2)],\n",
       "[                            -y/(x**2 + y**2),                              x/(x**2 + y**2),                                       0]])"
      ]
     },
     "execution_count": 20,
     "metadata": {},
     "output_type": "execute_result"
    }
   ],
   "source": [
    "ps = xyz_s\n",
    "eqs_s2 = basic_coord_transform_eqs(ps, \"xyz\", \"spherical\")\n",
    "xyz_to_sp = get_jacobian(ps, eqs_s2)\n",
    "print(\"Cartesian to Spehrical Cooridnate\")\n",
    "sp.simplify(xyz_to_sp)"
   ]
  },
  {
   "cell_type": "markdown",
   "metadata": {},
   "source": [
    "If we want to implement \n",
    "$$\\mathbf{J}_{p \\rightarrow q}  = \\Lambda_p^r \\Lambda_r^q = \\mathbf{J}_{p \\rightarrow r} \\mathbf{J}_{r \\rightarrow q} $$\n",
    "\n",
    "in Jacobian implementation, we have to unifty the all variables of Jacobian. Using `represent_with_basic_coord`, we can convert arbitary Jacobian in terms of basic coordinates. If you define new coordinate system based on *spherical coordinate*, $r, \\phi, \\theta$ and you want to represent them with Cartensian, $x, y, z$, \n",
    "\n",
    "```\n",
    "represent_with_basic_coord(\n",
    "    Jacobian,\n",
    "    [r, phi, theta],\n",
    "    [x, y ,z],\n",
    "    coord_basic = \"spherical\",\n",
    "    coord_rep = \"xyz\n",
    ")\n",
    "```"
   ]
  },
  {
   "cell_type": "code",
   "execution_count": 21,
   "metadata": {},
   "outputs": [
    {
     "data": {
      "text/latex": [
       "$\\displaystyle \\left[\\begin{matrix}\\sin{\\left(\\phi_{s} \\right)} \\cos{\\left(\\theta_{s} \\right)} & r_{s} \\cos{\\left(\\phi_{s} \\right)} \\cos{\\left(\\theta_{s} \\right)} & - r_{s} \\sin{\\left(\\phi_{s} \\right)} \\sin{\\left(\\theta_{s} \\right)}\\\\\\sin{\\left(\\phi_{s} \\right)} \\sin{\\left(\\theta_{s} \\right)} & r_{s} \\sin{\\left(\\theta_{s} \\right)} \\cos{\\left(\\phi_{s} \\right)} & r_{s} \\sin{\\left(\\phi_{s} \\right)} \\cos{\\left(\\theta_{s} \\right)}\\\\\\cos{\\left(\\phi_{s} \\right)} & - r_{s} \\sin{\\left(\\phi_{s} \\right)} & 0\\end{matrix}\\right]$"
      ],
      "text/plain": [
       "Matrix([\n",
       "[sin(\\phi_s)*cos(\\theta_s), r_s*cos(\\phi_s)*cos(\\theta_s), -r_s*sin(\\phi_s)*sin(\\theta_s)],\n",
       "[sin(\\phi_s)*sin(\\theta_s), r_s*sin(\\theta_s)*cos(\\phi_s),  r_s*sin(\\phi_s)*cos(\\theta_s)],\n",
       "[              cos(\\phi_s),              -r_s*sin(\\phi_s),                              0]])"
      ]
     },
     "execution_count": 21,
     "metadata": {},
     "output_type": "execute_result"
    }
   ],
   "source": [
    "sp_to_xyz"
   ]
  },
  {
   "cell_type": "code",
   "execution_count": 22,
   "metadata": {},
   "outputs": [
    {
     "data": {
      "text/latex": [
       "$\\displaystyle \\left[\\begin{matrix}\\frac{\\left|{x z}\\right|}{z \\sqrt{x^{2} + y^{2} + z^{2}}} & \\frac{\\left|{x z}\\right|}{\\sqrt{x^{2} + y^{2}}} & - \\frac{y \\left|{x z}\\right|}{x z}\\\\\\frac{y \\left|{x z}\\right|}{x z \\sqrt{x^{2} + y^{2} + z^{2}}} & \\frac{y \\left|{x z}\\right|}{x \\sqrt{x^{2} + y^{2}}} & \\frac{\\left|{x z}\\right|}{z}\\\\\\frac{\\left|{z}\\right|}{\\sqrt{x^{2} + y^{2} + z^{2}}} & - \\frac{\\sqrt{x^{2} + y^{2}} \\left|{z}\\right|}{z} & 0\\end{matrix}\\right]$"
      ],
      "text/plain": [
       "Matrix([\n",
       "[    Abs(x*z)/(z*sqrt(x**2 + y**2 + z**2)),       Abs(x*z)/sqrt(x**2 + y**2), -y*Abs(x*z)/(x*z)],\n",
       "[y*Abs(x*z)/(x*z*sqrt(x**2 + y**2 + z**2)), y*Abs(x*z)/(x*sqrt(x**2 + y**2)),        Abs(x*z)/z],\n",
       "[          Abs(z)/sqrt(x**2 + y**2 + z**2),      -sqrt(x**2 + y**2)*Abs(z)/z,                 0]])"
      ]
     },
     "execution_count": 22,
     "metadata": {},
     "output_type": "execute_result"
    }
   ],
   "source": [
    "# Spherical to XYZ representation change\n",
    "sp_to_xyz_rep = sp.simplify(\n",
    "    represent_with_basic_coord(\n",
    "        sp_to_xyz, sph_s, xyz_s, \n",
    "        coord_basic=\"spherical\", coord_rep=\"xyz\"))\n",
    "sp_to_xyz_rep"
   ]
  },
  {
   "cell_type": "code",
   "execution_count": 23,
   "metadata": {},
   "outputs": [
    {
     "data": {
      "text/latex": [
       "$\\displaystyle \\left[\\begin{matrix}\\frac{\\left|{\\sin{\\left(2 \\phi_{s} - \\theta_{s} \\right)} + \\sin{\\left(2 \\phi_{s} + \\theta_{s} \\right)}}\\right|}{4 \\cos{\\left(\\phi_{s} \\right)}} & \\frac{r_{s} \\left|{\\frac{\\sin{\\left(2 \\phi_{s} - \\theta_{s} \\right)} + \\sin{\\left(2 \\phi_{s} + \\theta_{s} \\right)}}{\\sin{\\left(\\phi_{s} \\right)}}}\\right|}{4} & - \\frac{r_{s} \\tan{\\left(\\theta_{s} \\right)} \\left|{\\sin{\\left(2 \\phi_{s} - \\theta_{s} \\right)} + \\sin{\\left(2 \\phi_{s} + \\theta_{s} \\right)}}\\right|}{4 \\cos{\\left(\\phi_{s} \\right)}}\\\\\\frac{\\tan{\\left(\\theta_{s} \\right)} \\left|{\\sin{\\left(2 \\phi_{s} - \\theta_{s} \\right)} + \\sin{\\left(2 \\phi_{s} + \\theta_{s} \\right)}}\\right|}{4 \\cos{\\left(\\phi_{s} \\right)}} & \\frac{r_{s} \\tan{\\left(\\theta_{s} \\right)} \\left|{\\frac{\\sin{\\left(2 \\phi_{s} - \\theta_{s} \\right)} + \\sin{\\left(2 \\phi_{s} + \\theta_{s} \\right)}}{\\sin{\\left(\\phi_{s} \\right)}}}\\right|}{4} & \\frac{r_{s} \\left|{\\sin{\\left(2 \\phi_{s} - \\theta_{s} \\right)} + \\sin{\\left(2 \\phi_{s} + \\theta_{s} \\right)}}\\right|}{4 \\cos{\\left(\\phi_{s} \\right)}}\\\\\\left|{\\cos{\\left(\\phi_{s} \\right)}}\\right| & - \\frac{r_{s} \\left|{\\sin{\\left(\\phi_{s} \\right)} \\cos{\\left(\\phi_{s} \\right)}}\\right|}{\\cos{\\left(\\phi_{s} \\right)}} & 0\\end{matrix}\\right]$"
      ],
      "text/plain": [
       "Matrix([\n",
       "[              Abs(sin(2*\\phi_s - \\theta_s) + sin(2*\\phi_s + \\theta_s))/(4*cos(\\phi_s)),               r_s*Abs((sin(2*\\phi_s - \\theta_s) + sin(2*\\phi_s + \\theta_s))/sin(\\phi_s))/4, -r_s*tan(\\theta_s)*Abs(sin(2*\\phi_s - \\theta_s) + sin(2*\\phi_s + \\theta_s))/(4*cos(\\phi_s))],\n",
       "[tan(\\theta_s)*Abs(sin(2*\\phi_s - \\theta_s) + sin(2*\\phi_s + \\theta_s))/(4*cos(\\phi_s)), r_s*tan(\\theta_s)*Abs((sin(2*\\phi_s - \\theta_s) + sin(2*\\phi_s + \\theta_s))/sin(\\phi_s))/4,                r_s*Abs(sin(2*\\phi_s - \\theta_s) + sin(2*\\phi_s + \\theta_s))/(4*cos(\\phi_s))],\n",
       "[                                                                      Abs(cos(\\phi_s)),                                              -r_s*Abs(sin(\\phi_s)*cos(\\phi_s))/cos(\\phi_s),                                                                                           0]])"
      ]
     },
     "execution_count": 23,
     "metadata": {},
     "output_type": "execute_result"
    }
   ],
   "source": [
    "# Identity test\n",
    "restore = sp.simplify(\n",
    "    represent_with_basic_coord(\n",
    "        sp_to_xyz_rep, xyz_s, sph_s, \n",
    "        coord_basic=\"xyz\", coord_rep=\"spherical\")\n",
    "        )\n",
    "restore"
   ]
  },
  {
   "cell_type": "code",
   "execution_count": 24,
   "metadata": {},
   "outputs": [],
   "source": [
    "r = 0.5\n",
    "phi = np.pi/10\n",
    "theta = np.pi/3\n",
    "\n",
    "x   = r *   np.sin(phi) *   np.cos(theta)\n",
    "y   = r *   np.sin(phi) *   np.sin(theta)\n",
    "z   = r *   np.cos(phi)"
   ]
  },
  {
   "cell_type": "code",
   "execution_count": 25,
   "metadata": {},
   "outputs": [],
   "source": [
    "xs, ys, zs =xyz_s"
   ]
  },
  {
   "cell_type": "code",
   "execution_count": 26,
   "metadata": {},
   "outputs": [
    {
     "data": {
      "text/latex": [
       "$\\displaystyle \\left[\\begin{matrix}0.154508497187474 & 0.237764129073788 & -0.133808283664909\\\\0.267616567329817 & 0.411819551773166 & 0.0772542485937369\\\\0.951056516295154 & -0.154508497187474 & 0\\end{matrix}\\right]$"
      ],
      "text/plain": [
       "Matrix([\n",
       "[0.154508497187474,  0.237764129073788, -0.133808283664909],\n",
       "[0.267616567329817,  0.411819551773166, 0.0772542485937369],\n",
       "[0.951056516295154, -0.154508497187474,                  0]])"
      ]
     },
     "execution_count": 26,
     "metadata": {},
     "output_type": "execute_result"
    }
   ],
   "source": [
    "sp_to_xyz.subs([\n",
    "    (sph_s[0], r),\n",
    "    (sph_s[1], phi),\n",
    "    (sph_s[2], theta)])"
   ]
  },
  {
   "cell_type": "code",
   "execution_count": 27,
   "metadata": {},
   "outputs": [
    {
     "data": {
      "text/latex": [
       "$\\displaystyle \\left[\\begin{matrix}0.154508497187474 & 0.237764129073788 & -0.133808283664909\\\\0.267616567329817 & 0.411819551773166 & 0.0772542485937369\\\\0.951056516295154 & -0.154508497187474 & 0\\end{matrix}\\right]$"
      ],
      "text/plain": [
       "Matrix([\n",
       "[0.154508497187474,  0.237764129073788, -0.133808283664909],\n",
       "[0.267616567329817,  0.411819551773166, 0.0772542485937369],\n",
       "[0.951056516295154, -0.154508497187474,                  0]])"
      ]
     },
     "execution_count": 27,
     "metadata": {},
     "output_type": "execute_result"
    }
   ],
   "source": [
    "sp_to_xyz_rep.subs([\n",
    "    (xyz_s[0], x), \n",
    "    (xyz_s[1], y), \n",
    "    (xyz_s[2], z)])"
   ]
  },
  {
   "cell_type": "code",
   "execution_count": 28,
   "metadata": {},
   "outputs": [
    {
     "data": {
      "text/latex": [
       "$\\displaystyle \\left[\\begin{matrix}0.154508497187474 & 0.237764129073788 & -0.133808283664909\\\\0.267616567329817 & 0.411819551773166 & 0.0772542485937369\\\\0.951056516295154 & -0.154508497187474 & 0\\end{matrix}\\right]$"
      ],
      "text/plain": [
       "Matrix([\n",
       "[0.154508497187474,  0.237764129073788, -0.133808283664909],\n",
       "[0.267616567329817,  0.411819551773166, 0.0772542485937369],\n",
       "[0.951056516295154, -0.154508497187474,                  0]])"
      ]
     },
     "execution_count": 28,
     "metadata": {},
     "output_type": "execute_result"
    }
   ],
   "source": [
    "restore.subs([\n",
    "    (sph_s[0],r),\n",
    "    (sph_s[1], phi),\n",
    "    (sph_s[2], theta)])"
   ]
  },
  {
   "cell_type": "markdown",
   "metadata": {},
   "source": [
    "## Relative Tensor of Electomagnetics\n",
    "\n",
    "$$\\epsilon^{ij} = \\mu^{ij} = + \\frac{\\sqrt{\\det{G'}}}{\\sqrt{\\det{\\Gamma}}} \\frac{\\Lambda G'^{-1} \\Lambda^T}{\\det{\\Lambda}}$$\n",
    "\n",
    "We will simulate them in Cartesian coordinate system, let's denote as $\\mathcal{P}$, therefore, $\\Gamma = I$.\n",
    "In addition, we will assume that the electromagnetic space, $\\mathcal{E}$, is a flat space, Cartesian and the space will be mapped to distorted transformation. \n",
    "\n",
    "$$\\mathcal{E} \\rightarrow \\mathcal{P}$$\n",
    "\n",
    "then, the both metric $g_p = g_e$ are just kronker delta and we get.\n",
    "\n",
    "$$\\epsilon^{ij} = \\mu^{ij} = \\frac{1}{\\det{\\Lambda}} \\Lambda \\Lambda^T$$\n",
    "\n",
    "Suppose we want to make invisible circle region on 2D surface.\n",
    "\n",
    "$$R_1 \\leq r \\leq R_2$$\n",
    "\n",
    "* $u_1 = R_1 + \\frac{R_2 -R_1}{R_1}r$.\n",
    "* $u_2 = \\phi$\n",
    "* $u_3 = z\n",
    "\n",
    "$0 \\leq r' \\leq R_2$ then, $r' = \\frac{r}{R_1}$"
   ]
  },
  {
   "cell_type": "code",
   "execution_count": 29,
   "metadata": {},
   "outputs": [],
   "source": [
    "r_cy, phi_cy, z_cy = cylin_s\n",
    "cy_xyz = get_jacobian(cylin_s, basic_coord_transform_eqs(cylin_s, \"cylinder\", \"xyz\")) "
   ]
  },
  {
   "cell_type": "code",
   "execution_count": 30,
   "metadata": {},
   "outputs": [
    {
     "data": {
      "text/latex": [
       "$\\displaystyle \\left[\\begin{matrix}\\cos{\\left(\\phi \\right)} & - r \\sin{\\left(\\phi \\right)} & 0\\\\\\sin{\\left(\\phi \\right)} & r \\cos{\\left(\\phi \\right)} & 0\\\\0 & 0 & 1\\end{matrix}\\right]$"
      ],
      "text/plain": [
       "Matrix([\n",
       "[cos(\\phi), -r*sin(\\phi), 0],\n",
       "[sin(\\phi),  r*cos(\\phi), 0],\n",
       "[        0,            0, 1]])"
      ]
     },
     "execution_count": 30,
     "metadata": {},
     "output_type": "execute_result"
    }
   ],
   "source": [
    "cy_xyz"
   ]
  },
  {
   "cell_type": "code",
   "execution_count": 31,
   "metadata": {},
   "outputs": [],
   "source": [
    "R1, R2 = sp.symbols(\"R_1 R_2\", positive=True, real=True)"
   ]
  },
  {
   "cell_type": "code",
   "execution_count": 32,
   "metadata": {},
   "outputs": [],
   "source": [
    "r_c, phi_c, z_c = cylin_s"
   ]
  },
  {
   "cell_type": "code",
   "execution_count": 33,
   "metadata": {},
   "outputs": [],
   "source": [
    "u1 = R1 + ((R2- R1)/R1)*r_c\n",
    "u2 = phi_c\n",
    "u3 = z_c"
   ]
  },
  {
   "cell_type": "code",
   "execution_count": 34,
   "metadata": {},
   "outputs": [
    {
     "data": {
      "text/latex": [
       "$\\displaystyle \\left[\\begin{matrix}\\frac{- R_{1} + R_{2}}{R_{1}} & 0 & 0\\\\0 & 1 & 0\\\\0 & 0 & 1\\end{matrix}\\right]$"
      ],
      "text/plain": [
       "Matrix([\n",
       "[(-R_1 + R_2)/R_1, 0, 0],\n",
       "[               0, 1, 0],\n",
       "[               0, 0, 1]])"
      ]
     },
     "execution_count": 34,
     "metadata": {},
     "output_type": "execute_result"
    }
   ],
   "source": [
    "A = get_jacobian([r_c, phi_c, z_c], [u1, u2, u3])\n",
    "A"
   ]
  },
  {
   "cell_type": "code",
   "execution_count": 35,
   "metadata": {},
   "outputs": [
    {
     "data": {
      "text/latex": [
       "$\\displaystyle \\left[\\begin{matrix}\\frac{\\left(- R_{1} + R_{2}\\right) \\cos{\\left(\\phi \\right)}}{R_{1}} & - \\frac{r \\left(- R_{1} + R_{2}\\right) \\sin{\\left(\\phi \\right)}}{R_{1}} & 0\\\\\\sin{\\left(\\phi \\right)} & r \\cos{\\left(\\phi \\right)} & 0\\\\0 & 0 & 1\\end{matrix}\\right]$"
      ],
      "text/plain": [
       "Matrix([\n",
       "[(-R_1 + R_2)*cos(\\phi)/R_1, -r*(-R_1 + R_2)*sin(\\phi)/R_1, 0],\n",
       "[                 sin(\\phi),                   r*cos(\\phi), 0],\n",
       "[                         0,                             0, 1]])"
      ]
     },
     "execution_count": 35,
     "metadata": {},
     "output_type": "execute_result"
    }
   ],
   "source": [
    "J = (A@cy_xyz)\n",
    "J"
   ]
  },
  {
   "cell_type": "code",
   "execution_count": 36,
   "metadata": {},
   "outputs": [],
   "source": [
    "r1 = 1E-2\n",
    "r2= 2E-2"
   ]
  },
  {
   "cell_type": "code",
   "execution_count": 37,
   "metadata": {},
   "outputs": [
    {
     "data": {
      "text/latex": [
       "$\\displaystyle \\left[\\begin{matrix}1.0 \\cos{\\left(\\phi \\right)} & - 1.0 r \\sin{\\left(\\phi \\right)} & 0\\\\\\sin{\\left(\\phi \\right)} & r \\cos{\\left(\\phi \\right)} & 0\\\\0 & 0 & 1\\end{matrix}\\right]$"
      ],
      "text/plain": [
       "Matrix([\n",
       "[1.0*cos(\\phi), -1.0*r*sin(\\phi), 0],\n",
       "[    sin(\\phi),      r*cos(\\phi), 0],\n",
       "[            0,                0, 1]])"
      ]
     },
     "execution_count": 37,
     "metadata": {},
     "output_type": "execute_result"
    }
   ],
   "source": [
    "J.subs([(R1, r1), (R2, r2)])"
   ]
  },
  {
   "cell_type": "code",
   "execution_count": 38,
   "metadata": {},
   "outputs": [],
   "source": [
    "M = sp.simplify(J@J.T)/sp.simplify(J.det())"
   ]
  },
  {
   "cell_type": "code",
   "execution_count": 39,
   "metadata": {},
   "outputs": [],
   "source": [
    "r1 = 2E-2\n",
    "r2 = 4E-2"
   ]
  },
  {
   "cell_type": "code",
   "execution_count": 40,
   "metadata": {},
   "outputs": [
    {
     "data": {
      "text/latex": [
       "$\\displaystyle \\left[\\begin{matrix}\\frac{1.0 \\left(r^{2} \\sin^{2}{\\left(\\phi \\right)} + \\cos^{2}{\\left(\\phi \\right)}\\right)}{r} & - \\frac{0.5 \\left(r^{2} - 1\\right) \\sin{\\left(2 \\phi \\right)}}{r} & 0\\\\- \\frac{0.5 \\left(r^{2} - 1\\right) \\sin{\\left(2 \\phi \\right)}}{r} & \\frac{1.0 \\left(r^{2} \\cos^{2}{\\left(\\phi \\right)} + \\sin^{2}{\\left(\\phi \\right)}\\right)}{r} & 0\\\\0 & 0 & \\frac{1.0}{r}\\end{matrix}\\right]$"
      ],
      "text/plain": [
       "Matrix([\n",
       "[1.0*(r**2*sin(\\phi)**2 + cos(\\phi)**2)/r,            -0.5*(r**2 - 1)*sin(2*\\phi)/r,     0],\n",
       "[           -0.5*(r**2 - 1)*sin(2*\\phi)/r, 1.0*(r**2*cos(\\phi)**2 + sin(\\phi)**2)/r,     0],\n",
       "[                                       0,                                        0, 1.0/r]])"
      ]
     },
     "execution_count": 40,
     "metadata": {},
     "output_type": "execute_result"
    }
   ],
   "source": [
    "M_cal = M.subs([(R1, r1), (R2, r2)])\n",
    "M_cal"
   ]
  },
  {
   "cell_type": "code",
   "execution_count": 41,
   "metadata": {},
   "outputs": [
    {
     "data": {
      "text/latex": [
       "$\\displaystyle \\left[\\begin{matrix}\\frac{1.0 \\left(x^{2} + y^{2} \\left(x^{2} + y^{2}\\right)\\right)}{\\left(x^{2} + y^{2}\\right)^{\\frac{3}{2}}} & \\frac{1.0 x y \\left(- x^{2} - y^{2} + 1\\right)}{\\left(x^{2} + y^{2}\\right)^{\\frac{3}{2}}} & 0\\\\\\frac{1.0 x y \\left(- x^{2} - y^{2} + 1\\right)}{\\left(x^{2} + y^{2}\\right)^{\\frac{3}{2}}} & \\frac{1.0 \\left(x^{2} \\left(x^{2} + y^{2}\\right) + y^{2}\\right)}{\\left(x^{2} + y^{2}\\right)^{\\frac{3}{2}}} & 0\\\\0 & 0 & \\frac{1.0}{\\sqrt{x^{2} + y^{2}}}\\end{matrix}\\right]$"
      ],
      "text/plain": [
       "Matrix([\n",
       "[1.0*(x**2 + y**2*(x**2 + y**2))/(x**2 + y**2)**(3/2),      1.0*x*y*(-x**2 - y**2 + 1)/(x**2 + y**2)**(3/2),                     0],\n",
       "[     1.0*x*y*(-x**2 - y**2 + 1)/(x**2 + y**2)**(3/2), 1.0*(x**2*(x**2 + y**2) + y**2)/(x**2 + y**2)**(3/2),                     0],\n",
       "[                                                   0,                                                    0, 1.0/sqrt(x**2 + y**2)]])"
      ]
     },
     "execution_count": 41,
     "metadata": {},
     "output_type": "execute_result"
    }
   ],
   "source": [
    "M_cal_xyz = sp.simplify(represent_with_basic_coord(M_cal, cylin_s, xyz_s, coord_basic=\"cylinder\", coord_rep=\"xyz\"))\n",
    "M_cal_xyz"
   ]
  },
  {
   "cell_type": "code",
   "execution_count": 42,
   "metadata": {},
   "outputs": [],
   "source": [
    "Mxy_func = lambda x,y: M_cal_xyz.subs([(xyz_s[0], x), (xyz_s[1], y)])"
   ]
  },
  {
   "cell_type": "code",
   "execution_count": 43,
   "metadata": {},
   "outputs": [
    {
     "data": {
      "text/latex": [
       "$\\displaystyle \\left[\\begin{matrix}0.02 & 0 & 0\\\\0 & 50.0 & 0\\\\0 & 0 & 50.0\\end{matrix}\\right]$"
      ],
      "text/plain": [
       "Matrix([\n",
       "[0.02,    0,    0],\n",
       "[   0, 50.0,    0],\n",
       "[   0,    0, 50.0]])"
      ]
     },
     "execution_count": 43,
     "metadata": {},
     "output_type": "execute_result"
    }
   ],
   "source": [
    "Mxy_func(0, r1)"
   ]
  },
  {
   "cell_type": "code",
   "execution_count": 44,
   "metadata": {},
   "outputs": [
    {
     "data": {
      "text/latex": [
       "$\\displaystyle \\left[\\begin{matrix}0.04 & 0 & 0\\\\0 & 25.0 & 0\\\\0 & 0 & 25.0\\end{matrix}\\right]$"
      ],
      "text/plain": [
       "Matrix([\n",
       "[0.04,    0,    0],\n",
       "[   0, 25.0,    0],\n",
       "[   0,    0, 25.0]])"
      ]
     },
     "execution_count": 44,
     "metadata": {},
     "output_type": "execute_result"
    }
   ],
   "source": [
    "Mxy_func(0, r2)"
   ]
  },
  {
   "cell_type": "code",
   "execution_count": 45,
   "metadata": {},
   "outputs": [
    {
     "data": {
      "text/latex": [
       "$\\displaystyle \\left[\\begin{matrix}0.02 & 3.06039235106924 \\cdot 10^{-15} & 0\\\\3.06039235106924 \\cdot 10^{-15} & 50.0 & 0\\\\0 & 0 & 50.0\\end{matrix}\\right]$"
      ],
      "text/plain": [
       "Matrix([\n",
       "[                0.02, 3.06039235106924e-15,    0],\n",
       "[3.06039235106924e-15,                 50.0,    0],\n",
       "[                   0,                    0, 50.0]])"
      ]
     },
     "execution_count": 45,
     "metadata": {},
     "output_type": "execute_result"
    }
   ],
   "source": [
    "theta = np.pi/2\n",
    "Mxy_func(r1*np.cos(theta), r1*np.sin(theta))\n"
   ]
  },
  {
   "cell_type": "code",
   "execution_count": 46,
   "metadata": {},
   "outputs": [
    {
     "data": {
      "text/latex": [
       "$\\displaystyle \\left[\\begin{matrix}0.04 & 1.5283592053359 \\cdot 10^{-15} & 0\\\\1.5283592053359 \\cdot 10^{-15} & 25.0 & 0\\\\0 & 0 & 25.0\\end{matrix}\\right]$"
      ],
      "text/plain": [
       "Matrix([\n",
       "[               0.04, 1.5283592053359e-15,    0],\n",
       "[1.5283592053359e-15,                25.0,    0],\n",
       "[                  0,                   0, 25.0]])"
      ]
     },
     "execution_count": 46,
     "metadata": {},
     "output_type": "execute_result"
    }
   ],
   "source": [
    "theta = np.pi/2\n",
    "Mxy_func(r2*np.cos(theta), r2*np.sin(theta))\n"
   ]
  },
  {
   "cell_type": "markdown",
   "metadata": {},
   "source": [
    "Calculate e_r, mu_r tensor by the given mesh grid"
   ]
  },
  {
   "cell_type": "code",
   "execution_count": 47,
   "metadata": {},
   "outputs": [
    {
     "data": {
      "text/latex": [
       "$\\displaystyle \\left[\\begin{matrix}\\frac{1.0 \\left(x^{2} + y^{2} \\left(x^{2} + y^{2}\\right)\\right)}{\\left(x^{2} + y^{2}\\right)^{\\frac{3}{2}}} & \\frac{1.0 x y \\left(- x^{2} - y^{2} + 1\\right)}{\\left(x^{2} + y^{2}\\right)^{\\frac{3}{2}}} & 0\\\\\\frac{1.0 x y \\left(- x^{2} - y^{2} + 1\\right)}{\\left(x^{2} + y^{2}\\right)^{\\frac{3}{2}}} & \\frac{1.0 \\left(x^{2} \\left(x^{2} + y^{2}\\right) + y^{2}\\right)}{\\left(x^{2} + y^{2}\\right)^{\\frac{3}{2}}} & 0\\\\0 & 0 & \\frac{1.0}{\\sqrt{x^{2} + y^{2}}}\\end{matrix}\\right]$"
      ],
      "text/plain": [
       "Matrix([\n",
       "[1.0*(x**2 + y**2*(x**2 + y**2))/(x**2 + y**2)**(3/2),      1.0*x*y*(-x**2 - y**2 + 1)/(x**2 + y**2)**(3/2),                     0],\n",
       "[     1.0*x*y*(-x**2 - y**2 + 1)/(x**2 + y**2)**(3/2), 1.0*(x**2*(x**2 + y**2) + y**2)/(x**2 + y**2)**(3/2),                     0],\n",
       "[                                                   0,                                                    0, 1.0/sqrt(x**2 + y**2)]])"
      ]
     },
     "execution_count": 47,
     "metadata": {},
     "output_type": "execute_result"
    }
   ],
   "source": [
    "M_cal_xyz"
   ]
  },
  {
   "cell_type": "code",
   "execution_count": 48,
   "metadata": {},
   "outputs": [
    {
     "data": {
      "text/latex": [
       "$\\displaystyle x$"
      ],
      "text/plain": [
       "x"
      ]
     },
     "execution_count": 48,
     "metadata": {},
     "output_type": "execute_result"
    }
   ],
   "source": [
    "xyz_s[:2][0]"
   ]
  },
  {
   "cell_type": "code",
   "execution_count": 49,
   "metadata": {},
   "outputs": [],
   "source": [
    "func_M = sp.lambdify(xyz_s[:2], M_cal_xyz.tolist(), modules = \"numpy\")"
   ]
  },
  {
   "cell_type": "code",
   "execution_count": 50,
   "metadata": {},
   "outputs": [],
   "source": [
    "xline = np.linspace(-5, 5, 20)\n",
    "yline = np.linspace(-5, 5, 20)\n",
    "X, Y = np.meshgrid(xline, yline)\n",
    "Z = np.zeros(X.shape)"
   ]
  },
  {
   "cell_type": "markdown",
   "metadata": {},
   "source": [
    "Reference tensor\n",
    "\n",
    "```\n",
    "Full-wave simulations of electomagneic cloacking structures, 10.1103/PhysRevE.74.036621\n",
    "```"
   ]
  },
  {
   "cell_type": "markdown",
   "metadata": {},
   "source": [
    "* $\\epsilon_{xx} = \\frac{r-R_1}{r} \\cos^2(\\phi) + \\frac{r}{r - R_1} \\sin^2(\\phi)$\n",
    "* $\\epsilon_{xy} = \\epsilon_{yx} = (\\frac{r-R_1}{r}- \\frac{r}{r - R_1}) \\sin(\\phi)\\cos(\\phi)$\n",
    "* $\\epsilon_{yy} = \\frac{r-R_1}{r} \\sin^2(\\phi) + \\frac{r}{r - R_1} \\cos^2(\\phi)$"
   ]
  },
  {
   "cell_type": "code",
   "execution_count": 51,
   "metadata": {},
   "outputs": [
    {
     "data": {
      "text/latex": [
       "$\\displaystyle \\left[\\begin{matrix}\\frac{\\left(R_{1} - R_{2}\\right)^{2} \\left(r^{2} \\sin^{2}{\\left(\\phi \\right)} + \\cos^{2}{\\left(\\phi \\right)}\\right)}{R_{1} r \\left(- R_{1} + R_{2}\\right)} & \\frac{\\left(R_{1} - R_{2}\\right) \\left(r^{2} - 1\\right) \\sin{\\left(2 \\phi \\right)}}{2 r \\left(- R_{1} + R_{2}\\right)} & 0\\\\\\frac{\\left(R_{1} - R_{2}\\right) \\left(r^{2} - 1\\right) \\sin{\\left(2 \\phi \\right)}}{2 r \\left(- R_{1} + R_{2}\\right)} & \\frac{R_{1} \\left(r^{2} \\cos^{2}{\\left(\\phi \\right)} + \\sin^{2}{\\left(\\phi \\right)}\\right)}{r \\left(- R_{1} + R_{2}\\right)} & 0\\\\0 & 0 & \\frac{R_{1}}{r \\left(- R_{1} + R_{2}\\right)}\\end{matrix}\\right]$"
      ],
      "text/plain": [
       "Matrix([\n",
       "[(R_1 - R_2)**2*(r**2*sin(\\phi)**2 + cos(\\phi)**2)/(R_1*r*(-R_1 + R_2)),   (R_1 - R_2)*(r**2 - 1)*sin(2*\\phi)/(2*r*(-R_1 + R_2)),                    0],\n",
       "[                 (R_1 - R_2)*(r**2 - 1)*sin(2*\\phi)/(2*r*(-R_1 + R_2)), R_1*(r**2*cos(\\phi)**2 + sin(\\phi)**2)/(r*(-R_1 + R_2)),                    0],\n",
       "[                                                                     0,                                                       0, R_1/(r*(-R_1 + R_2))]])"
      ]
     },
     "execution_count": 51,
     "metadata": {},
     "output_type": "execute_result"
    }
   ],
   "source": [
    "M"
   ]
  },
  {
   "cell_type": "code",
   "execution_count": 52,
   "metadata": {},
   "outputs": [
    {
     "data": {
      "text/plain": [
       "(Matrix([\n",
       " [1.0*(x**2 + y**2*(x**2 + y**2))/(x**2 + y**2)**(3/2),      1.0*x*y*(-x**2 - y**2 + 1)/(x**2 + y**2)**(3/2),                     0],\n",
       " [     1.0*x*y*(-x**2 - y**2 + 1)/(x**2 + y**2)**(3/2), 1.0*(x**2*(x**2 + y**2) + y**2)/(x**2 + y**2)**(3/2),                     0],\n",
       " [                                                   0,                                                    0, 1.0/sqrt(x**2 + y**2)]]),\n",
       " (x, y, z))"
      ]
     },
     "execution_count": 52,
     "metadata": {},
     "output_type": "execute_result"
    }
   ],
   "source": [
    "M_cal_xyz, xyz_s"
   ]
  },
  {
   "cell_type": "code",
   "execution_count": 53,
   "metadata": {},
   "outputs": [],
   "source": [
    "func_cal_em = get_func_gij(xyz_s, M_cal_xyz)"
   ]
  },
  {
   "cell_type": "code",
   "execution_count": 54,
   "metadata": {},
   "outputs": [],
   "source": [
    "# X, Y, Z = mesh of xline, yline\n",
    "xline = np.linspace(-2, 2, 4)\n",
    "yline = np.linspace(-3, -3, 4)\n",
    "X, Y = np.meshgrid(xline, yline)\n",
    "Z = np.zeros(X.shape)"
   ]
  },
  {
   "cell_type": "code",
   "execution_count": 55,
   "metadata": {},
   "outputs": [
    {
     "data": {
      "text/plain": [
       "array([[[[ 2.58148937, -1.53609285,  0.        ],\n",
       "         [-1.53609285,  1.301412  ,  0.        ],\n",
       "         [ 0.        ,  0.        ,  0.2773501 ]],\n",
       "\n",
       "        [[ 2.94387392, -0.58188405,  0.        ],\n",
       "         [-0.58188405,  0.45470325,  0.        ],\n",
       "         [ 0.        ,  0.        ,  0.32539569]],\n",
       "\n",
       "        [[ 2.94387392,  0.58188405,  0.        ],\n",
       "         [ 0.58188405,  0.45470325,  0.        ],\n",
       "         [ 0.        ,  0.        ,  0.32539569]],\n",
       "\n",
       "        [[ 2.58148937,  1.53609285,  0.        ],\n",
       "         [ 1.53609285,  1.301412  ,  0.        ],\n",
       "         [ 0.        ,  0.        ,  0.2773501 ]]],\n",
       "\n",
       "\n",
       "       [[[ 2.58148937, -1.53609285,  0.        ],\n",
       "         [-1.53609285,  1.301412  ,  0.        ],\n",
       "         [ 0.        ,  0.        ,  0.2773501 ]],\n",
       "\n",
       "        [[ 2.94387392, -0.58188405,  0.        ],\n",
       "         [-0.58188405,  0.45470325,  0.        ],\n",
       "         [ 0.        ,  0.        ,  0.32539569]],\n",
       "\n",
       "        [[ 2.94387392,  0.58188405,  0.        ],\n",
       "         [ 0.58188405,  0.45470325,  0.        ],\n",
       "         [ 0.        ,  0.        ,  0.32539569]],\n",
       "\n",
       "        [[ 2.58148937,  1.53609285,  0.        ],\n",
       "         [ 1.53609285,  1.301412  ,  0.        ],\n",
       "         [ 0.        ,  0.        ,  0.2773501 ]]],\n",
       "\n",
       "\n",
       "       [[[ 2.58148937, -1.53609285,  0.        ],\n",
       "         [-1.53609285,  1.301412  ,  0.        ],\n",
       "         [ 0.        ,  0.        ,  0.2773501 ]],\n",
       "\n",
       "        [[ 2.94387392, -0.58188405,  0.        ],\n",
       "         [-0.58188405,  0.45470325,  0.        ],\n",
       "         [ 0.        ,  0.        ,  0.32539569]],\n",
       "\n",
       "        [[ 2.94387392,  0.58188405,  0.        ],\n",
       "         [ 0.58188405,  0.45470325,  0.        ],\n",
       "         [ 0.        ,  0.        ,  0.32539569]],\n",
       "\n",
       "        [[ 2.58148937,  1.53609285,  0.        ],\n",
       "         [ 1.53609285,  1.301412  ,  0.        ],\n",
       "         [ 0.        ,  0.        ,  0.2773501 ]]],\n",
       "\n",
       "\n",
       "       [[[ 2.58148937, -1.53609285,  0.        ],\n",
       "         [-1.53609285,  1.301412  ,  0.        ],\n",
       "         [ 0.        ,  0.        ,  0.2773501 ]],\n",
       "\n",
       "        [[ 2.94387392, -0.58188405,  0.        ],\n",
       "         [-0.58188405,  0.45470325,  0.        ],\n",
       "         [ 0.        ,  0.        ,  0.32539569]],\n",
       "\n",
       "        [[ 2.94387392,  0.58188405,  0.        ],\n",
       "         [ 0.58188405,  0.45470325,  0.        ],\n",
       "         [ 0.        ,  0.        ,  0.32539569]],\n",
       "\n",
       "        [[ 2.58148937,  1.53609285,  0.        ],\n",
       "         [ 1.53609285,  1.301412  ,  0.        ],\n",
       "         [ 0.        ,  0.        ,  0.2773501 ]]]])"
      ]
     },
     "execution_count": 55,
     "metadata": {},
     "output_type": "execute_result"
    }
   ],
   "source": [
    "func_cal_em(X, Y, Z)"
   ]
  },
  {
   "cell_type": "code",
   "execution_count": 175,
   "metadata": {},
   "outputs": [],
   "source": [
    "a = [[1, 2],[3, 4]]"
   ]
  },
  {
   "cell_type": "code",
   "execution_count": 176,
   "metadata": {},
   "outputs": [
    {
     "ename": "TypeError",
     "evalue": "list indices must be integers or slices, not tuple",
     "output_type": "error",
     "traceback": [
      "\u001b[1;31m---------------------------------------------------------------------------\u001b[0m",
      "\u001b[1;31mTypeError\u001b[0m                                 Traceback (most recent call last)",
      "Cell \u001b[1;32mIn[176], line 1\u001b[0m\n\u001b[1;32m----> 1\u001b[0m a[\u001b[39m1\u001b[39;49m,\u001b[39m1\u001b[39;49m]\n",
      "\u001b[1;31mTypeError\u001b[0m: list indices must be integers or slices, not tuple"
     ]
    }
   ],
   "source": [
    "a[1,1]"
   ]
  },
  {
   "cell_type": "code",
   "execution_count": 42,
   "metadata": {},
   "outputs": [
    {
     "ename": "ValueError",
     "evalue": "setting an array element with a sequence. The requested array has an inhomogeneous shape after 2 dimensions. The detected shape was (3, 3) + inhomogeneous part.",
     "output_type": "error",
     "traceback": [
      "\u001b[0;31m---------------------------------------------------------------------------\u001b[0m",
      "\u001b[0;31mValueError\u001b[0m                                Traceback (most recent call last)",
      "Cell \u001b[0;32mIn[42], line 1\u001b[0m\n\u001b[0;32m----> 1\u001b[0m e_tensor \u001b[39m=\u001b[39m func_cal_em(X, Y, Z)\n",
      "File \u001b[0;32m~/Documents/GitHub/invisible-matter-fdtd/imfdtd/utils.py:103\u001b[0m, in \u001b[0;36mget_func_gij.<locals>.func_g_ij\u001b[0;34m(*args)\u001b[0m\n\u001b[1;32m    101\u001b[0m dim \u001b[39m=\u001b[39m \u001b[39mlen\u001b[39m(data_shape)\n\u001b[1;32m    102\u001b[0m ones\u001b[39m=\u001b[39m np\u001b[39m.\u001b[39mones(data_shape)\n\u001b[0;32m--> 103\u001b[0m result_arr \u001b[39m=\u001b[39m _g_ij(\u001b[39m*\u001b[39;49margs)\n\u001b[1;32m    104\u001b[0m \u001b[39m# Fixing ragged nested elements\u001b[39;00m\n\u001b[1;32m    105\u001b[0m \u001b[39mfor\u001b[39;00m (i, j) \u001b[39min\u001b[39;00m constant_index:\n",
      "File \u001b[0;32m<lambdifygenerated-1>:2\u001b[0m, in \u001b[0;36m_lambdifygenerated\u001b[0;34m(x, y, z)\u001b[0m\n\u001b[1;32m      1\u001b[0m \u001b[39mdef\u001b[39;00m \u001b[39m_lambdifygenerated\u001b[39m(x, y, z):\n\u001b[0;32m----> 2\u001b[0m     \u001b[39mreturn\u001b[39;00m array([[\u001b[39m1.0\u001b[39;49m\u001b[39m*\u001b[39;49m(x\u001b[39m*\u001b[39;49m\u001b[39m*\u001b[39;49m\u001b[39m2\u001b[39;49m \u001b[39m+\u001b[39;49m y\u001b[39m*\u001b[39;49m\u001b[39m*\u001b[39;49m\u001b[39m2\u001b[39;49m\u001b[39m*\u001b[39;49m(x\u001b[39m*\u001b[39;49m\u001b[39m*\u001b[39;49m\u001b[39m2\u001b[39;49m \u001b[39m+\u001b[39;49m y\u001b[39m*\u001b[39;49m\u001b[39m*\u001b[39;49m\u001b[39m2\u001b[39;49m))\u001b[39m/\u001b[39;49m(x\u001b[39m*\u001b[39;49m\u001b[39m*\u001b[39;49m\u001b[39m2\u001b[39;49m \u001b[39m+\u001b[39;49m y\u001b[39m*\u001b[39;49m\u001b[39m*\u001b[39;49m\u001b[39m2\u001b[39;49m)\u001b[39m*\u001b[39;49m\u001b[39m*\u001b[39;49m(\u001b[39m3\u001b[39;49m\u001b[39m/\u001b[39;49m\u001b[39m2\u001b[39;49m), \u001b[39m1.0\u001b[39;49m\u001b[39m*\u001b[39;49mx\u001b[39m*\u001b[39;49my\u001b[39m*\u001b[39;49m(\u001b[39m-\u001b[39;49mx\u001b[39m*\u001b[39;49m\u001b[39m*\u001b[39;49m\u001b[39m2\u001b[39;49m \u001b[39m-\u001b[39;49m y\u001b[39m*\u001b[39;49m\u001b[39m*\u001b[39;49m\u001b[39m2\u001b[39;49m \u001b[39m+\u001b[39;49m \u001b[39m1\u001b[39;49m)\u001b[39m/\u001b[39;49m(x\u001b[39m*\u001b[39;49m\u001b[39m*\u001b[39;49m\u001b[39m2\u001b[39;49m \u001b[39m+\u001b[39;49m y\u001b[39m*\u001b[39;49m\u001b[39m*\u001b[39;49m\u001b[39m2\u001b[39;49m)\u001b[39m*\u001b[39;49m\u001b[39m*\u001b[39;49m(\u001b[39m3\u001b[39;49m\u001b[39m/\u001b[39;49m\u001b[39m2\u001b[39;49m), \u001b[39m0\u001b[39;49m], [\u001b[39m1.0\u001b[39;49m\u001b[39m*\u001b[39;49mx\u001b[39m*\u001b[39;49my\u001b[39m*\u001b[39;49m(\u001b[39m-\u001b[39;49mx\u001b[39m*\u001b[39;49m\u001b[39m*\u001b[39;49m\u001b[39m2\u001b[39;49m \u001b[39m-\u001b[39;49m y\u001b[39m*\u001b[39;49m\u001b[39m*\u001b[39;49m\u001b[39m2\u001b[39;49m \u001b[39m+\u001b[39;49m \u001b[39m1\u001b[39;49m)\u001b[39m/\u001b[39;49m(x\u001b[39m*\u001b[39;49m\u001b[39m*\u001b[39;49m\u001b[39m2\u001b[39;49m \u001b[39m+\u001b[39;49m y\u001b[39m*\u001b[39;49m\u001b[39m*\u001b[39;49m\u001b[39m2\u001b[39;49m)\u001b[39m*\u001b[39;49m\u001b[39m*\u001b[39;49m(\u001b[39m3\u001b[39;49m\u001b[39m/\u001b[39;49m\u001b[39m2\u001b[39;49m), \u001b[39m1.0\u001b[39;49m\u001b[39m*\u001b[39;49m(x\u001b[39m*\u001b[39;49m\u001b[39m*\u001b[39;49m\u001b[39m2\u001b[39;49m\u001b[39m*\u001b[39;49m(x\u001b[39m*\u001b[39;49m\u001b[39m*\u001b[39;49m\u001b[39m2\u001b[39;49m \u001b[39m+\u001b[39;49m y\u001b[39m*\u001b[39;49m\u001b[39m*\u001b[39;49m\u001b[39m2\u001b[39;49m) \u001b[39m+\u001b[39;49m y\u001b[39m*\u001b[39;49m\u001b[39m*\u001b[39;49m\u001b[39m2\u001b[39;49m)\u001b[39m/\u001b[39;49m(x\u001b[39m*\u001b[39;49m\u001b[39m*\u001b[39;49m\u001b[39m2\u001b[39;49m \u001b[39m+\u001b[39;49m y\u001b[39m*\u001b[39;49m\u001b[39m*\u001b[39;49m\u001b[39m2\u001b[39;49m)\u001b[39m*\u001b[39;49m\u001b[39m*\u001b[39;49m(\u001b[39m3\u001b[39;49m\u001b[39m/\u001b[39;49m\u001b[39m2\u001b[39;49m), \u001b[39m0\u001b[39;49m], [\u001b[39m0\u001b[39;49m, \u001b[39m0\u001b[39;49m, \u001b[39m1.0\u001b[39;49m\u001b[39m/\u001b[39;49msqrt(x\u001b[39m*\u001b[39;49m\u001b[39m*\u001b[39;49m\u001b[39m2\u001b[39;49m \u001b[39m+\u001b[39;49m y\u001b[39m*\u001b[39;49m\u001b[39m*\u001b[39;49m\u001b[39m2\u001b[39;49m)]])\n",
      "\u001b[0;31mValueError\u001b[0m: setting an array element with a sequence. The requested array has an inhomogeneous shape after 2 dimensions. The detected shape was (3, 3) + inhomogeneous part."
     ]
    }
   ],
   "source": [
    "e_tensor = func_cal_em(X, Y, Z)"
   ]
  },
  {
   "cell_type": "code",
   "execution_count": null,
   "metadata": {},
   "outputs": [
    {
     "data": {
      "text/latex": [
       "$\\displaystyle \\left[\\begin{matrix}2.58148937474049 & -1.53609285108525 & 0\\\\-1.53609285108525 & 1.30141199883611 & 0\\\\0 & 0 & 0.277350098112615\\end{matrix}\\right]$"
      ],
      "text/plain": [
       "Matrix([\n",
       "[ 2.58148937474049, -1.53609285108525,                 0],\n",
       "[-1.53609285108525,  1.30141199883611,                 0],\n",
       "[                0,                 0, 0.277350098112615]])"
      ]
     },
     "execution_count": 99,
     "metadata": {},
     "output_type": "execute_result"
    }
   ],
   "source": [
    "Mxy_func(xline[0], yline[0])"
   ]
  },
  {
   "cell_type": "code",
   "execution_count": 43,
   "metadata": {},
   "outputs": [
    {
     "ename": "NameError",
     "evalue": "name 'e_tensor' is not defined",
     "output_type": "error",
     "traceback": [
      "\u001b[0;31m---------------------------------------------------------------------------\u001b[0m",
      "\u001b[0;31mNameError\u001b[0m                                 Traceback (most recent call last)",
      "Cell \u001b[0;32mIn[43], line 1\u001b[0m\n\u001b[0;32m----> 1\u001b[0m e_tensor[\u001b[39m0\u001b[39m:\u001b[39m2\u001b[39m][\u001b[39m0\u001b[39m:\u001b[39m2\u001b[39m]\n",
      "\u001b[0;31mNameError\u001b[0m: name 'e_tensor' is not defined"
     ]
    }
   ],
   "source": [
    "e_tensor[0:2][0:2]"
   ]
  },
  {
   "cell_type": "markdown",
   "metadata": {},
   "source": [
    "## Object grid detection"
   ]
  },
  {
   "cell_type": "code",
   "execution_count": 12,
   "metadata": {},
   "outputs": [],
   "source": [
    "from matplotlib.patches import Ellipse, Rectangle, PathPatch\n",
    "from matplotlib.path import Path\n",
    "from matplotlib import pyplot as plt\n",
    "\n",
    "import numpy as np"
   ]
  },
  {
   "cell_type": "code",
   "execution_count": 66,
   "metadata": {},
   "outputs": [],
   "source": [
    "from typing import Iterable"
   ]
  },
  {
   "cell_type": "code",
   "execution_count": 67,
   "metadata": {},
   "outputs": [
    {
     "data": {
      "text/plain": [
       "True"
      ]
     },
     "execution_count": 67,
     "metadata": {},
     "output_type": "execute_result"
    }
   ],
   "source": [
    "isinstance(a, Iterable)"
   ]
  },
  {
   "cell_type": "code",
   "execution_count": 13,
   "metadata": {},
   "outputs": [],
   "source": [
    "r2 = 3\n",
    "r1 = 1"
   ]
  },
  {
   "cell_type": "code",
   "execution_count": 14,
   "metadata": {},
   "outputs": [],
   "source": [
    "#Ellipse\n",
    "a = r2\n",
    "b = r2\n",
    "angle = 0\n",
    "\n",
    "ellipse_out = Ellipse([0,0], width = a, height =b, angle=angle)\n",
    "ellipse_in = Ellipse([0,0], width = r1, height=r1)\n",
    "\n",
    "e_path_out = ellipse_out.get_path()\n",
    "e_transform_out = ellipse_out.get_transform()\n",
    "e_path_out_poly = e_transform_out.transform_path(e_path_out)\n",
    "\n",
    "e_path_in = ellipse_in.get_path()\n",
    "e_transform_in = ellipse_in.get_transform()\n",
    "e_path_in_poly = e_transform_in.transform_path(e_path_in)\n"
   ]
  },
  {
   "cell_type": "code",
   "execution_count": 15,
   "metadata": {},
   "outputs": [
    {
     "data": {
      "image/png": "[encoded data removed]",
      "text/plain": [
       "<Figure size 640x480 with 1 Axes>"
      ]
     },
     "metadata": {},
     "output_type": "display_data"
    }
   ],
   "source": [
    "fig, ax = plt.subplots()\n",
    "e_polygon_out = PathPatch(e_path_out_poly, facecolor='none')\n",
    "e_polygon_in = PathPatch(e_path_in_poly, facecolor='none')\n",
    "\n",
    "ax.add_patch(e_polygon_out)\n",
    "ax.add_patch(e_polygon_in)\n",
    "\n",
    "ax.set_ylim(-b/2, b/2)\n",
    "ax.set_xlim(-a/2, a/2)\n",
    "ax.set_aspect('equal', adjustable='box')\n",
    "plt.show()"
   ]
  },
  {
   "cell_type": "code",
   "execution_count": 33,
   "metadata": {},
   "outputs": [
    {
     "data": {
      "text/plain": [
       "True"
      ]
     },
     "execution_count": 33,
     "metadata": {},
     "output_type": "execute_result"
    }
   ],
   "source": [
    "e_path_out_poly.contains_path(e_path_in_poly)"
   ]
  },
  {
   "cell_type": "code",
   "execution_count": 32,
   "metadata": {},
   "outputs": [
    {
     "data": {
      "text/plain": [
       "False"
      ]
     },
     "execution_count": 32,
     "metadata": {},
     "output_type": "execute_result"
    }
   ],
   "source": [
    "e_path_in.contains_path(e_path_out)"
   ]
  },
  {
   "cell_type": "code",
   "execution_count": 16,
   "metadata": {},
   "outputs": [],
   "source": [
    "yline = np.linspace(-b,b, 200)\n",
    "xline = np.linspace(-a,a, 200)\n",
    "mesh_x, mesh_y = np.meshgrid(xline, yline)\n",
    "points = np.vstack([mesh_x.ravel(), mesh_y.ravel()]).T"
   ]
  },
  {
   "cell_type": "code",
   "execution_count": 17,
   "metadata": {},
   "outputs": [],
   "source": [
    "p_index_out = e_path_out_poly.contains_points(points) #\n",
    "p_index_in = e_path_in_poly.contains_points(points)"
   ]
  },
  {
   "cell_type": "code",
   "execution_count": 18,
   "metadata": {},
   "outputs": [],
   "source": [
    "p_index = np.logical_xor(p_index_out, p_index_in) # Eleiminate inside hole grid"
   ]
  },
  {
   "cell_type": "code",
   "execution_count": 19,
   "metadata": {},
   "outputs": [],
   "source": [
    "index = np.where(p_index)[0]\n",
    "inside = points[index]\n",
    "scatter_points = inside.T"
   ]
  },
  {
   "cell_type": "code",
   "execution_count": 24,
   "metadata": {},
   "outputs": [
    {
     "data": {
      "text/plain": [
       "40000"
      ]
     },
     "execution_count": 24,
     "metadata": {},
     "output_type": "execute_result"
    }
   ],
   "source": [
    "nx, ny = mesh_x.shape\n",
    "nx*ny"
   ]
  },
  {
   "cell_type": "code",
   "execution_count": 25,
   "metadata": {},
   "outputs": [
    {
     "data": {
      "text/plain": [
       "array([ 98,  99, 100, ...,  99, 100, 101], dtype=int64)"
      ]
     },
     "execution_count": 25,
     "metadata": {},
     "output_type": "execute_result"
    }
   ],
   "source": [
    "index%nx"
   ]
  },
  {
   "cell_type": "code",
   "execution_count": 28,
   "metadata": {},
   "outputs": [
    {
     "data": {
      "text/plain": [
       "array([ 50,  50,  50, ..., 149, 149, 149])"
      ]
     },
     "execution_count": 28,
     "metadata": {},
     "output_type": "execute_result"
    }
   ],
   "source": [
    "(index/nx).astype(int)"
   ]
  },
  {
   "cell_type": "code",
   "execution_count": 29,
   "metadata": {},
   "outputs": [
    {
     "data": {
      "text/plain": [
       "array([-0.04522613, -0.01507538,  0.01507538, ..., -0.01507538,\n",
       "        0.01507538,  0.04522613])"
      ]
     },
     "execution_count": 29,
     "metadata": {},
     "output_type": "execute_result"
    }
   ],
   "source": [
    "mesh_x[(index/nx).astype(int), index%nx]"
   ]
  },
  {
   "cell_type": "code",
   "execution_count": 30,
   "metadata": {},
   "outputs": [
    {
     "data": {
      "image/png": "[encoded data removed]",
      "text/plain": [
       "<Figure size 640x480 with 1 Axes>"
      ]
     },
     "metadata": {},
     "output_type": "display_data"
    }
   ],
   "source": [
    "fig, ax = plt.subplots()\n",
    "e_polygon_out = PathPatch(e_path_out_poly, facecolor='none')\n",
    "e_polygon_in = PathPatch(e_path_in_poly, facecolor='none')\n",
    "ax.add_patch(e_polygon_out)\n",
    "ax.add_patch(e_polygon_in)\n",
    "ax.scatter(scatter_points[0], scatter_points[1], c=\"r\", s=0.5)\n",
    "ax.scatter(\n",
    "    mesh_x[(index/nx).astype(int), index%nx], \n",
    "    mesh_y[(index/nx).astype(int), index%nx], c=\"g\", s=0.5)\n",
    "ax.set_ylim(-b/2, b/2)\n",
    "ax.set_xlim(-a/2, a/2)\n",
    "\n",
    "ax.set_aspect('equal', adjustable='box')\n",
    "plt.show()\n"
   ]
  },
  {
   "cell_type": "markdown",
   "metadata": {},
   "source": [
    "## Generating Yee's lattice"
   ]
  },
  {
   "cell_type": "code",
   "execution_count": 109,
   "metadata": {},
   "outputs": [],
   "source": [
    "cm = 1E-2\n",
    "E_p, H_p= yee_lattices([-4*cm, 4*cm], [-4*cm, 4*cm], n=[50, 50])\n",
    "dx = E_p[0][0][1] - E_p[0][0][0]\n",
    "dy = E_p[1][1][0] -E_p[1][0][0]"
   ]
  },
  {
   "cell_type": "code",
   "execution_count": 110,
   "metadata": {},
   "outputs": [
    {
     "data": {
      "text/plain": [
       "Text(0.5, 1.0, 'Yee Grid for 2D FDTD')"
      ]
     },
     "execution_count": 110,
     "metadata": {},
     "output_type": "execute_result"
    },
    {
     "data": {
      "image/png": "[encoded data removed]",
      "text/plain": [
       "<Figure size 640x480 with 1 Axes>"
      ]
     },
     "metadata": {},
     "output_type": "display_data"
    }
   ],
   "source": [
    "fig, ax = plt.subplots()\n",
    "r = 2\n",
    "ax.set_aspect('equal', adjustable='box')\n",
    "\n",
    "ax.scatter(E_p[0], E_p[1], c=\"r\", s=10)\n",
    "ax.scatter(H_p[0], H_p[1], c=\"b\", s=10)\n",
    "\n",
    "ax.set_xticks(H_p[0][0])\n",
    "ax.set_yticks(H_p[1][:].T[0])\n",
    "\n",
    "ax.grid(which=\"major\")\n",
    "ax.set_xlim(-r*cm, r*cm)\n",
    "ax.set_ylim(-r*cm, r*cm)\n",
    "\n",
    "ax.set_title(\"Yee Grid for 2D FDTD\")"
   ]
  },
  {
   "cell_type": "code",
   "execution_count": 111,
   "metadata": {},
   "outputs": [
    {
     "data": {
      "text/plain": [
       "Text(0.5, 1.0, 'Yee Grid for 2D FDTD')"
      ]
     },
     "execution_count": 111,
     "metadata": {},
     "output_type": "execute_result"
    },
    {
     "data": {
      "image/png": "[encoded data removed]",
      "text/plain": [
       "<Figure size 640x480 with 1 Axes>"
      ]
     },
     "metadata": {},
     "output_type": "display_data"
    }
   ],
   "source": [
    "fig, ax = plt.subplots()\n",
    "r = 0.5\n",
    "ax.set_aspect('equal', adjustable='box')\n",
    "\n",
    "ax.scatter(E_p[0], E_p[1], c=\"r\", s=10)\n",
    "ax.scatter(H_p[0], H_p[1], c=\"b\", s=10)\n",
    "\n",
    "ax.set_xticks(H_p[0][0])\n",
    "ax.set_yticks(H_p[1][:].T[0])\n",
    "\n",
    "ax.grid(which=\"major\")\n",
    "ax.set_xlim(-r*cm, r*cm)\n",
    "ax.set_ylim(-r*cm, r*cm)\n",
    "\n",
    "ax.set_title(\"Yee Grid for 2D FDTD\")"
   ]
  },
  {
   "cell_type": "markdown",
   "metadata": {},
   "source": [
    "---"
   ]
  },
  {
   "cell_type": "code",
   "execution_count": 25,
   "metadata": {},
   "outputs": [],
   "source": [
    "import os\n",
    "import sys\n",
    "module_path = os.path.abspath(os.path.join('..'))\n",
    "if module_path not in sys.path:\n",
    "    sys.path.append(module_path)\n"
   ]
  },
  {
   "cell_type": "code",
   "execution_count": 26,
   "metadata": {},
   "outputs": [],
   "source": [
    "import numpy as np\n",
    "from matplotlib import pyplot as plt\n",
    "\n",
    "from sympy import symbols, sin, cos, tan ,exp\n",
    "from sympy import lambdify\n",
    "from sympy import S\n",
    "import sympy as sp\n",
    "\n",
    "import imfdtd.utils as tfdtd"
   ]
  },
  {
   "cell_type": "code",
   "execution_count": 38,
   "metadata": {},
   "outputs": [],
   "source": [
    "from matplotlib.patches import Ellipse, Rectangle, PathPatch"
   ]
  },
  {
   "cell_type": "code",
   "execution_count": 69,
   "metadata": {},
   "outputs": [
    {
     "data": {
      "text/plain": [
       "array([[[ 9, 10, 11],\n",
       "        [12, 13, 14],\n",
       "        [15, 16, 17]],\n",
       "\n",
       "       [[18, 19, 20],\n",
       "        [21, 22, 23],\n",
       "        [24, 25, 26]]])"
      ]
     },
     "execution_count": 69,
     "metadata": {},
     "output_type": "execute_result"
    }
   ],
   "source": [
    "np.arange(27).reshape((3,3, 3))[1:, :]"
   ]
  },
  {
   "cell_type": "code",
   "execution_count": 78,
   "metadata": {},
   "outputs": [],
   "source": [
    "def curl_E(E_field):\n",
    "    curl_E = np.zeros(E_field.shape)\n",
    "\n",
    "    # We only consider 2D TM mode wave\n",
    "    curl_E[:-1, :, 0] += E_field[1:, : , 2] - E_field[:-1, :, 2]\n",
    "    curl_E[:, :-1, 1] -= E_field[:, 1: , 2] - E_field[:, :-1, 2]\n",
    "\n",
    "    return curl_E\n",
    "def curl_H(H_field):\n",
    "    curl = np.zeros(H_field.shape, dtype=H_field.dtype)\n",
    "\n",
    "    curl[:,:-1, 2] += H_field[:,1:, 1] - H_field[:,:-1, 1]\n",
    "    curl[:-1,:, 2] -= H_field[1:, :, 0] - H_field[:-1,:, 0]\n",
    "    return curl\n"
   ]
  },
  {
   "cell_type": "code",
   "execution_count": 79,
   "metadata": {},
   "outputs": [
    {
     "data": {
      "text/plain": [
       "array([[[ 9., -3.,  0.],\n",
       "        [ 9., -3.,  0.],\n",
       "        [ 9.,  0.,  0.]],\n",
       "\n",
       "       [[ 9., -3.,  0.],\n",
       "        [ 9., -3.,  0.],\n",
       "        [ 9.,  0.,  0.]],\n",
       "\n",
       "       [[ 0., -3.,  0.],\n",
       "        [ 0., -3.,  0.],\n",
       "        [ 0.,  0.,  0.]]])"
      ]
     },
     "execution_count": 79,
     "metadata": {},
     "output_type": "execute_result"
    }
   ],
   "source": [
    "curl_E(np.arange(27).reshape((3,3,3)))"
   ]
  },
  {
   "cell_type": "code",
   "execution_count": 80,
   "metadata": {},
   "outputs": [
    {
     "data": {
      "text/plain": [
       "array([[[ 0,  0, -6],\n",
       "        [ 0,  0, -6],\n",
       "        [ 0,  0, -9]],\n",
       "\n",
       "       [[ 0,  0, -6],\n",
       "        [ 0,  0, -6],\n",
       "        [ 0,  0, -9]],\n",
       "\n",
       "       [[ 0,  0,  3],\n",
       "        [ 0,  0,  3],\n",
       "        [ 0,  0,  0]]])"
      ]
     },
     "execution_count": 80,
     "metadata": {},
     "output_type": "execute_result"
    }
   ],
   "source": [
    "curl_H(np.arange(27).reshape((3,3,3)))"
   ]
  },
  {
   "cell_type": "code",
   "execution_count": 39,
   "metadata": {},
   "outputs": [],
   "source": [
    "# Matrix multiplication\n",
    "def mv_mul(\n",
    "        matrix_arr:np.ndarray, \n",
    "        vector_arr:np.ndarray):\n",
    "    # Ensure that the shapes of the input arrays are compatible\n",
    "    assert matrix_arr.shape[:2] == vector_arr.shape[:2], \"Shapes of matrix and vector arrays must be the same (N, M).\"\n",
    "    assert matrix_arr.shape[-2:] == (3, 3), \"Matrix array must have shape (N, M, 3, 3).\"\n",
    "    assert vector_arr.shape[-1] == 3, \"Vector array must have shape (N, M, 3).\"\n",
    "\n",
    "    # Perform element-wise matrix-vector multiplication\n",
    "    result = np.einsum('ijkl,ijl->ijk', matrix_arr, vector_arr)\n",
    "\n",
    "    return result"
   ]
  },
  {
   "cell_type": "code",
   "execution_count": 40,
   "metadata": {},
   "outputs": [],
   "source": [
    "CM = 1E-2\n",
    "r1= 5*CM\n",
    "r2 = 10*CM"
   ]
  },
  {
   "cell_type": "code",
   "execution_count": 41,
   "metadata": {},
   "outputs": [
    {
     "name": "stdout",
     "output_type": "stream",
     "text": [
      "-0.3 0.3\n"
     ]
    }
   ],
   "source": [
    "xlim = np.array([-20*CM, 20*CM])\n",
    "ylim = np.array([-30*CM, 30*CM])\n",
    "Points, Fields, Tensor = tfdtd.prepare_simulation([\n",
    "    xlim,ylim], [200, 300])\n",
    "E_points, H_points = Points\n",
    "E_field, H_field = Fields\n",
    "g_tensor_e, g_tensor_h = Tensor"
   ]
  },
  {
   "cell_type": "code",
   "execution_count": 42,
   "metadata": {},
   "outputs": [
    {
     "data": {
      "text/plain": [
       "([array([[-0.2       , -0.19798995, -0.1959799 , ...,  0.1959799 ,\n",
       "           0.19798995,  0.2       ],\n",
       "         [-0.2       , -0.19798995, -0.1959799 , ...,  0.1959799 ,\n",
       "           0.19798995,  0.2       ],\n",
       "         [-0.2       , -0.19798995, -0.1959799 , ...,  0.1959799 ,\n",
       "           0.19798995,  0.2       ],\n",
       "         ...,\n",
       "         [-0.2       , -0.19798995, -0.1959799 , ...,  0.1959799 ,\n",
       "           0.19798995,  0.2       ],\n",
       "         [-0.2       , -0.19798995, -0.1959799 , ...,  0.1959799 ,\n",
       "           0.19798995,  0.2       ],\n",
       "         [-0.2       , -0.19798995, -0.1959799 , ...,  0.1959799 ,\n",
       "           0.19798995,  0.2       ]]),\n",
       "  array([[-0.3       , -0.3       , -0.3       , ..., -0.3       ,\n",
       "          -0.3       , -0.3       ],\n",
       "         [-0.29799331, -0.29799331, -0.29799331, ..., -0.29799331,\n",
       "          -0.29799331, -0.29799331],\n",
       "         [-0.29598662, -0.29598662, -0.29598662, ..., -0.29598662,\n",
       "          -0.29598662, -0.29598662],\n",
       "         ...,\n",
       "         [ 0.29598662,  0.29598662,  0.29598662, ...,  0.29598662,\n",
       "           0.29598662,  0.29598662],\n",
       "         [ 0.29799331,  0.29799331,  0.29799331, ...,  0.29799331,\n",
       "           0.29799331,  0.29799331],\n",
       "         [ 0.3       ,  0.3       ,  0.3       , ...,  0.3       ,\n",
       "           0.3       ,  0.3       ]])],\n",
       " [array([[-0.20100503, -0.19899497, -0.19698492, ...,  0.19698492,\n",
       "           0.19899497,  0.20100503],\n",
       "         [-0.20100503, -0.19899497, -0.19698492, ...,  0.19698492,\n",
       "           0.19899497,  0.20100503],\n",
       "         [-0.20100503, -0.19899497, -0.19698492, ...,  0.19698492,\n",
       "           0.19899497,  0.20100503],\n",
       "         ...,\n",
       "         [-0.20100503, -0.19899497, -0.19698492, ...,  0.19698492,\n",
       "           0.19899497,  0.20100503],\n",
       "         [-0.20100503, -0.19899497, -0.19698492, ...,  0.19698492,\n",
       "           0.19899497,  0.20100503],\n",
       "         [-0.20100503, -0.19899497, -0.19698492, ...,  0.19698492,\n",
       "           0.19899497,  0.20100503]]),\n",
       "  array([[-0.30100334, -0.30100334, -0.30100334, ..., -0.30100334,\n",
       "          -0.30100334, -0.30100334],\n",
       "         [-0.29899666, -0.29899666, -0.29899666, ..., -0.29899666,\n",
       "          -0.29899666, -0.29899666],\n",
       "         [-0.29698997, -0.29698997, -0.29698997, ..., -0.29698997,\n",
       "          -0.29698997, -0.29698997],\n",
       "         ...,\n",
       "         [ 0.29698997,  0.29698997,  0.29698997, ...,  0.29698997,\n",
       "           0.29698997,  0.29698997],\n",
       "         [ 0.29899666,  0.29899666,  0.29899666, ...,  0.29899666,\n",
       "           0.29899666,  0.29899666],\n",
       "         [ 0.30100334,  0.30100334,  0.30100334, ...,  0.30100334,\n",
       "           0.30100334,  0.30100334]])])"
      ]
     },
     "execution_count": 42,
     "metadata": {},
     "output_type": "execute_result"
    }
   ],
   "source": [
    "Points"
   ]
  },
  {
   "cell_type": "code",
   "execution_count": 43,
   "metadata": {},
   "outputs": [],
   "source": [
    "# Get relative tensor\n",
    "s_xyz, s_cylinder, s_sph = tfdtd.get_basic_coordinates()\n",
    "r_s, phi_s, z_s = s_cylinder\n",
    "R1, R2 = sp.symbols(\"R_1, R_2\")"
   ]
  },
  {
   "cell_type": "code",
   "execution_count": 44,
   "metadata": {},
   "outputs": [],
   "source": [
    "# Define transoformation\n",
    "u1 = R1 + ((R2- R1)/R1)*r_s\n",
    "u2 = phi_s\n",
    "u3 = z_s\n",
    "eq_coor = [u1.subs([(R1, r1),(R2, r2)]), u2, u3]\n",
    "syms = [r_s, phi_s, z_s]"
   ]
  },
  {
   "cell_type": "code",
   "execution_count": 45,
   "metadata": {},
   "outputs": [
    {
     "data": {
      "text/latex": [
       "$\\displaystyle \\left[\\begin{matrix}\\frac{1.0 x^{4} \\sqrt{x^{2} + y^{2}} + 1.0 x^{2} y^{2} \\sqrt{x^{2} + y^{2}} + 1.0 y^{2} \\sqrt{x^{2} + y^{2}}}{1.0 x^{4} + 2.0 x^{2} y^{2} + 1.0 y^{4}} & \\frac{1.0 x^{3} y \\sqrt{x^{2} + y^{2}} + 1.0 x y^{3} \\sqrt{x^{2} + y^{2}} - 1.0 x y \\sqrt{x^{2} + y^{2}}}{1.0 x^{4} + 2.0 x^{2} y^{2} + 1.0 y^{4}} & 0\\\\\\frac{1.0 x^{3} y + 1.0 x y^{3} - 1.0 x y}{1.0 x^{2} \\sqrt{x^{2} + y^{2}} + 1.0 y^{2} \\sqrt{x^{2} + y^{2}}} & \\frac{1.0 x^{2} y^{2} + 1.0 x^{2} + 1.0 y^{4}}{1.0 x^{2} \\sqrt{x^{2} + y^{2}} + 1.0 y^{2} \\sqrt{x^{2} + y^{2}}} & 0\\\\0 & 0 & 1.0 \\sqrt{x^{2} + y^{2}}\\end{matrix}\\right]$"
      ],
      "text/plain": [
       "Matrix([\n",
       "[(1.0*x**4*sqrt(x**2 + y**2) + 1.0*x**2*y**2*sqrt(x**2 + y**2) + 1.0*y**2*sqrt(x**2 + y**2))/(1.0*x**4 + 2.0*x**2*y**2 + 1.0*y**4), (1.0*x**3*y*sqrt(x**2 + y**2) + 1.0*x*y**3*sqrt(x**2 + y**2) - 1.0*x*y*sqrt(x**2 + y**2))/(1.0*x**4 + 2.0*x**2*y**2 + 1.0*y**4),                     0],\n",
       "[                                    (1.0*x**3*y + 1.0*x*y**3 - 1.0*x*y)/(1.0*x**2*sqrt(x**2 + y**2) + 1.0*y**2*sqrt(x**2 + y**2)),                                 (1.0*x**2*y**2 + 1.0*x**2 + 1.0*y**4)/(1.0*x**2*sqrt(x**2 + y**2) + 1.0*y**2*sqrt(x**2 + y**2)),                     0],\n",
       "[                                                                                                                                0,                                                                                                                               0, 1.0*sqrt(x**2 + y**2)]])"
      ]
     },
     "execution_count": 45,
     "metadata": {},
     "output_type": "execute_result"
    }
   ],
   "source": [
    "gt = tfdtd.get_invisible_tensor(eq_coor, syms, s_xyz)\n",
    "gt"
   ]
  },
  {
   "cell_type": "code",
   "execution_count": 46,
   "metadata": {},
   "outputs": [],
   "source": [
    "gt = gt.inv()"
   ]
  },
  {
   "cell_type": "code",
   "execution_count": 47,
   "metadata": {},
   "outputs": [
    {
     "data": {
      "text/latex": [
       "$\\displaystyle \\left[\\begin{matrix}0.05 & 0 & 0\\\\0 & 20.0 & 0\\\\0 & 0 & 20.0\\end{matrix}\\right]$"
      ],
      "text/plain": [
       "Matrix([\n",
       "[0.05,    0,    0],\n",
       "[   0, 20.0,    0],\n",
       "[   0,    0, 20.0]])"
      ]
     },
     "execution_count": 47,
     "metadata": {},
     "output_type": "execute_result"
    }
   ],
   "source": [
    "gt.subs([(s_xyz[0], 0),(s_xyz[1], (r1+r2)/3)])"
   ]
  },
  {
   "cell_type": "code",
   "execution_count": 58,
   "metadata": {},
   "outputs": [],
   "source": [
    "func_gij = tfdtd.get_func_gij([s_xyz[0], s_xyz[1]], gt)"
   ]
  },
  {
   "cell_type": "code",
   "execution_count": 49,
   "metadata": {},
   "outputs": [],
   "source": [
    "#Ellipse\n",
    "a = r2\n",
    "b = r2\n",
    "angle = 0\n",
    "\n",
    "ellipse_out = Ellipse([0,0], width = a, height =b, angle=angle)\n",
    "ellipse_in = Ellipse([0,0], width = r1, height=r1)\n",
    "\n",
    "e_path_out = ellipse_out.get_path()\n",
    "e_transform_out = ellipse_out.get_transform()\n",
    "e_path_out_poly = e_transform_out.transform_path(e_path_out)\n",
    "\n",
    "e_path_in = ellipse_in.get_path()\n",
    "e_transform_in = ellipse_in.get_transform()\n",
    "e_path_in_poly = e_transform_in.transform_path(e_path_in)\n"
   ]
  },
  {
   "cell_type": "code",
   "execution_count": 50,
   "metadata": {},
   "outputs": [],
   "source": [
    "# Calculate inner points index\n",
    "\n",
    "Xe,Ye = E_points\n",
    "n, m = Xe.shape\n",
    "points = np.vstack([Xe.ravel(), Ye.ravel()]).T\n",
    "p_bool_out = e_path_out_poly.contains_points(points) #\n",
    "p_bool_in = e_path_in_poly.contains_points(points)\n",
    "p_bool  = np.logical_xor(p_bool_out, p_bool_in)\n",
    "index_r = index_c =  np.where(p_bool)[0]\n",
    "index_r = (index_r/m).astype(int)\n",
    "index_c = (index_c%m).astype(int)\n",
    "bool_array_e = np.zeros((n, m), dtype=bool)\n",
    "bool_array_e[index_r, index_c] = True\n",
    "\n",
    "Xh,Yh = H_points\n",
    "nh, mh = Xh.shape\n",
    "points_h = np.vstack([Xh.ravel(), Yh.ravel()]).T\n",
    "p_bool_out_h = e_path_out_poly.contains_points(points_h) #\n",
    "p_bool_in_h = e_path_in_poly.contains_points(points_h)\n",
    "p_bool_h  = np.logical_xor(p_bool_out_h, p_bool_in_h)\n",
    "index_rh = index_ch =  np.where(p_bool_h)[0]\n",
    "index_rh = (index_rh/mh).astype(int)\n",
    "index_ch = (index_ch%mh).astype(int)\n",
    "\n",
    "bool_array_h = np.zeros((nh, mh), dtype=bool)\n",
    "bool_array_h[index_rh, index_ch] = True\n"
   ]
  },
  {
   "cell_type": "code",
   "execution_count": 51,
   "metadata": {},
   "outputs": [
    {
     "data": {
      "image/png": "[encoded data removed]",
      "text/plain": [
       "<Figure size 640x480 with 1 Axes>"
      ]
     },
     "metadata": {},
     "output_type": "display_data"
    }
   ],
   "source": [
    "fig, ax = plt.subplots()\n",
    "e_polygon_out = PathPatch(e_path_out_poly, facecolor='none')\n",
    "e_polygon_in = PathPatch(e_path_in_poly, facecolor='none')\n",
    "\n",
    "ax.add_patch(e_polygon_out)\n",
    "ax.add_patch(e_polygon_in)\n",
    "ax.scatter(E_points[0], E_points[1], c=\"r\", s=6)\n",
    "\n",
    "ax.scatter(Xe[bool_array_e], Ye[bool_array_e], c=\"b\", s= 6)\n",
    "ax.scatter(Xh[bool_array_h], Yh[bool_array_h], c=\"g\", s= 8)\n",
    "\n",
    "#ax.scatter(H_p[0], H_p[1], c=\"b\", s=10)\n",
    "\n",
    "ax.set_ylim(0.015, ylim[1]/8)\n",
    "ax.set_xlim(*xlim/20)\n",
    "ax.set_aspect('equal', adjustable='box')\n",
    "fig.suptitle(\"Yee Lattice and Object inner points.\")\n",
    "plt.show()"
   ]
  },
  {
   "cell_type": "code",
   "execution_count": 52,
   "metadata": {},
   "outputs": [],
   "source": [
    "Xe_in = Xe[bool_array_e]\n",
    "Ye_in = Ye[bool_array_e]"
   ]
  },
  {
   "cell_type": "code",
   "execution_count": 53,
   "metadata": {},
   "outputs": [
    {
     "data": {
      "text/plain": [
       "(1464,)"
      ]
     },
     "execution_count": 53,
     "metadata": {},
     "output_type": "execute_result"
    }
   ],
   "source": [
    "Xe_in.shape"
   ]
  },
  {
   "cell_type": "code",
   "execution_count": 54,
   "metadata": {},
   "outputs": [
    {
     "data": {
      "text/plain": [
       "array([[-0.00502513, -0.00301508, -0.00100503, ...,  0.00100503,\n",
       "         0.00301508,  0.00502513]])"
      ]
     },
     "execution_count": 54,
     "metadata": {},
     "output_type": "execute_result"
    }
   ],
   "source": [
    "Xe_in.reshape(1,-1)"
   ]
  },
  {
   "cell_type": "code",
   "execution_count": 55,
   "metadata": {},
   "outputs": [
    {
     "data": {
      "text/plain": [
       "array([[False, False, False, ..., False, False, False],\n",
       "       [False, False, False, ..., False, False, False],\n",
       "       [False, False, False, ..., False, False, False],\n",
       "       ...,\n",
       "       [False, False, False, ..., False, False, False],\n",
       "       [False, False, False, ..., False, False, False],\n",
       "       [False, False, False, ..., False, False, False]])"
      ]
     },
     "execution_count": 55,
     "metadata": {},
     "output_type": "execute_result"
    }
   ],
   "source": [
    "bool_array_e"
   ]
  },
  {
   "cell_type": "code",
   "execution_count": 61,
   "metadata": {},
   "outputs": [
    {
     "ename": "ValueError",
     "evalue": "setting an array element with a sequence. The requested array has an inhomogeneous shape after 2 dimensions. The detected shape was (3, 3) + inhomogeneous part.",
     "output_type": "error",
     "traceback": [
      "\u001b[0;31m---------------------------------------------------------------------------\u001b[0m",
      "\u001b[0;31mValueError\u001b[0m                                Traceback (most recent call last)",
      "Cell \u001b[0;32mIn[61], line 3\u001b[0m\n\u001b[1;32m      1\u001b[0m Xe_in \u001b[39m=\u001b[39m Xe[bool_array_e]\n\u001b[1;32m      2\u001b[0m Ye_in \u001b[39m=\u001b[39m Ye[bool_array_e]\n\u001b[0;32m----> 3\u001b[0m gij_in_e \u001b[39m=\u001b[39m func_gij(Xe_in, Ye_in)\n\u001b[1;32m      6\u001b[0m Xh_in \u001b[39m=\u001b[39m Xh[bool_array_h]\n\u001b[1;32m      7\u001b[0m Yh_in \u001b[39m=\u001b[39m Yh[bool_array_h]\n",
      "File \u001b[0;32m~/Documents/GitHub/invisible-matter-fdtd/imfdtd/utils.py:103\u001b[0m, in \u001b[0;36mfunc_g_ij\u001b[0;34m(*args)\u001b[0m\n\u001b[1;32m    102\u001b[0m \u001b[39mdef\u001b[39;00m \u001b[39mfunc_g_ij\u001b[39m(\u001b[39m*\u001b[39margs):\n\u001b[0;32m--> 103\u001b[0m     data_shape \u001b[39m=\u001b[39m args[\u001b[39m0\u001b[39m]\u001b[39m.\u001b[39mshape\n\u001b[1;32m    104\u001b[0m     dim \u001b[39m=\u001b[39m \u001b[39mlen\u001b[39m(data_shape)\n\u001b[1;32m    105\u001b[0m     ones\u001b[39m=\u001b[39m np\u001b[39m.\u001b[39mones(data_shape)\n",
      "File \u001b[0;32m<lambdifygenerated-3>:2\u001b[0m, in \u001b[0;36m_lambdifygenerated\u001b[0;34m(x, y)\u001b[0m\n\u001b[1;32m      1\u001b[0m \u001b[39mdef\u001b[39;00m \u001b[39m_lambdifygenerated\u001b[39m(x, y):\n\u001b[0;32m----> 2\u001b[0m     \u001b[39mreturn\u001b[39;00m array([[(\u001b[39m1.0\u001b[39;49m\u001b[39m*\u001b[39;49mx\u001b[39m*\u001b[39;49m\u001b[39m*\u001b[39;49m\u001b[39m2\u001b[39;49m\u001b[39m*\u001b[39;49my\u001b[39m*\u001b[39;49m\u001b[39m*\u001b[39;49m\u001b[39m2\u001b[39;49m \u001b[39m+\u001b[39;49m \u001b[39m1.0\u001b[39;49m\u001b[39m*\u001b[39;49mx\u001b[39m*\u001b[39;49m\u001b[39m*\u001b[39;49m\u001b[39m2\u001b[39;49m \u001b[39m+\u001b[39;49m \u001b[39m1.0\u001b[39;49m\u001b[39m*\u001b[39;49my\u001b[39m*\u001b[39;49m\u001b[39m*\u001b[39;49m\u001b[39m4\u001b[39;49m)\u001b[39m/\u001b[39;49m(\u001b[39m1.0\u001b[39;49m\u001b[39m*\u001b[39;49mx\u001b[39m*\u001b[39;49m\u001b[39m*\u001b[39;49m\u001b[39m2\u001b[39;49m\u001b[39m*\u001b[39;49msqrt(x\u001b[39m*\u001b[39;49m\u001b[39m*\u001b[39;49m\u001b[39m2\u001b[39;49m \u001b[39m+\u001b[39;49m y\u001b[39m*\u001b[39;49m\u001b[39m*\u001b[39;49m\u001b[39m2\u001b[39;49m) \u001b[39m+\u001b[39;49m \u001b[39m1.0\u001b[39;49m\u001b[39m*\u001b[39;49my\u001b[39m*\u001b[39;49m\u001b[39m*\u001b[39;49m\u001b[39m2\u001b[39;49m\u001b[39m*\u001b[39;49msqrt(x\u001b[39m*\u001b[39;49m\u001b[39m*\u001b[39;49m\u001b[39m2\u001b[39;49m \u001b[39m+\u001b[39;49m y\u001b[39m*\u001b[39;49m\u001b[39m*\u001b[39;49m\u001b[39m2\u001b[39;49m)), (\u001b[39m-\u001b[39;49m\u001b[39m0.25\u001b[39;49m\u001b[39m*\u001b[39;49mx\u001b[39m*\u001b[39;49m\u001b[39m*\u001b[39;49m\u001b[39m3\u001b[39;49m\u001b[39m*\u001b[39;49my \u001b[39m-\u001b[39;49m \u001b[39m0.25\u001b[39;49m\u001b[39m*\u001b[39;49mx\u001b[39m*\u001b[39;49my\u001b[39m*\u001b[39;49m\u001b[39m*\u001b[39;49m\u001b[39m3\u001b[39;49m \u001b[39m+\u001b[39;49m \u001b[39m0.25\u001b[39;49m\u001b[39m*\u001b[39;49mx\u001b[39m*\u001b[39;49my)\u001b[39m/\u001b[39;49m(\u001b[39m0.25\u001b[39;49m\u001b[39m*\u001b[39;49mx\u001b[39m*\u001b[39;49m\u001b[39m*\u001b[39;49m\u001b[39m2\u001b[39;49m\u001b[39m*\u001b[39;49msqrt(x\u001b[39m*\u001b[39;49m\u001b[39m*\u001b[39;49m\u001b[39m2\u001b[39;49m \u001b[39m+\u001b[39;49m y\u001b[39m*\u001b[39;49m\u001b[39m*\u001b[39;49m\u001b[39m2\u001b[39;49m) \u001b[39m+\u001b[39;49m \u001b[39m0.25\u001b[39;49m\u001b[39m*\u001b[39;49my\u001b[39m*\u001b[39;49m\u001b[39m*\u001b[39;49m\u001b[39m2\u001b[39;49m\u001b[39m*\u001b[39;49msqrt(x\u001b[39m*\u001b[39;49m\u001b[39m*\u001b[39;49m\u001b[39m2\u001b[39;49m \u001b[39m+\u001b[39;49m y\u001b[39m*\u001b[39;49m\u001b[39m*\u001b[39;49m\u001b[39m2\u001b[39;49m)), \u001b[39m0\u001b[39;49m], [(\u001b[39m-\u001b[39;49m\u001b[39m1.0\u001b[39;49m\u001b[39m*\u001b[39;49mx\u001b[39m*\u001b[39;49m\u001b[39m*\u001b[39;49m\u001b[39m3\u001b[39;49m\u001b[39m*\u001b[39;49my \u001b[39m-\u001b[39;49m \u001b[39m1.0\u001b[39;49m\u001b[39m*\u001b[39;49mx\u001b[39m*\u001b[39;49my\u001b[39m*\u001b[39;49m\u001b[39m*\u001b[39;49m\u001b[39m3\u001b[39;49m \u001b[39m+\u001b[39;49m \u001b[39m1.0\u001b[39;49m\u001b[39m*\u001b[39;49mx\u001b[39m*\u001b[39;49my)\u001b[39m/\u001b[39;49m(\u001b[39m1.0\u001b[39;49m\u001b[39m*\u001b[39;49mx\u001b[39m*\u001b[39;49m\u001b[39m*\u001b[39;49m\u001b[39m2\u001b[39;49m\u001b[39m*\u001b[39;49msqrt(x\u001b[39m*\u001b[39;49m\u001b[39m*\u001b[39;49m\u001b[39m2\u001b[39;49m \u001b[39m+\u001b[39;49m y\u001b[39m*\u001b[39;49m\u001b[39m*\u001b[39;49m\u001b[39m2\u001b[39;49m) \u001b[39m+\u001b[39;49m \u001b[39m1.0\u001b[39;49m\u001b[39m*\u001b[39;49my\u001b[39m*\u001b[39;49m\u001b[39m*\u001b[39;49m\u001b[39m2\u001b[39;49m\u001b[39m*\u001b[39;49msqrt(x\u001b[39m*\u001b[39;49m\u001b[39m*\u001b[39;49m\u001b[39m2\u001b[39;49m \u001b[39m+\u001b[39;49m y\u001b[39m*\u001b[39;49m\u001b[39m*\u001b[39;49m\u001b[39m2\u001b[39;49m)), (\u001b[39m1.0\u001b[39;49m\u001b[39m*\u001b[39;49mx\u001b[39m*\u001b[39;49m\u001b[39m*\u001b[39;49m\u001b[39m4\u001b[39;49m\u001b[39m*\u001b[39;49msqrt(x\u001b[39m*\u001b[39;49m\u001b[39m*\u001b[39;49m\u001b[39m2\u001b[39;49m \u001b[39m+\u001b[39;49m y\u001b[39m*\u001b[39;49m\u001b[39m*\u001b[39;49m\u001b[39m2\u001b[39;49m) \u001b[39m+\u001b[39;49m \u001b[39m1.0\u001b[39;49m\u001b[39m*\u001b[39;49mx\u001b[39m*\u001b[39;49m\u001b[39m*\u001b[39;49m\u001b[39m2\u001b[39;49m\u001b[39m*\u001b[39;49my\u001b[39m*\u001b[39;49m\u001b[39m*\u001b[39;49m\u001b[39m2\u001b[39;49m\u001b[39m*\u001b[39;49msqrt(x\u001b[39m*\u001b[39;49m\u001b[39m*\u001b[39;49m\u001b[39m2\u001b[39;49m \u001b[39m+\u001b[39;49m y\u001b[39m*\u001b[39;49m\u001b[39m*\u001b[39;49m\u001b[39m2\u001b[39;49m) \u001b[39m+\u001b[39;49m \u001b[39m1.0\u001b[39;49m\u001b[39m*\u001b[39;49my\u001b[39m*\u001b[39;49m\u001b[39m*\u001b[39;49m\u001b[39m2\u001b[39;49m\u001b[39m*\u001b[39;49msqrt(x\u001b[39m*\u001b[39;49m\u001b[39m*\u001b[39;49m\u001b[39m2\u001b[39;49m \u001b[39m+\u001b[39;49m y\u001b[39m*\u001b[39;49m\u001b[39m*\u001b[39;49m\u001b[39m2\u001b[39;49m))\u001b[39m/\u001b[39;49m(\u001b[39m1.0\u001b[39;49m\u001b[39m*\u001b[39;49mx\u001b[39m*\u001b[39;49m\u001b[39m*\u001b[39;49m\u001b[39m4\u001b[39;49m \u001b[39m+\u001b[39;49m \u001b[39m2.0\u001b[39;49m\u001b[39m*\u001b[39;49mx\u001b[39m*\u001b[39;49m\u001b[39m*\u001b[39;49m\u001b[39m2\u001b[39;49m\u001b[39m*\u001b[39;49my\u001b[39m*\u001b[39;49m\u001b[39m*\u001b[39;49m\u001b[39m2\u001b[39;49m \u001b[39m+\u001b[39;49m \u001b[39m1.0\u001b[39;49m\u001b[39m*\u001b[39;49my\u001b[39m*\u001b[39;49m\u001b[39m*\u001b[39;49m\u001b[39m4\u001b[39;49m), \u001b[39m0\u001b[39;49m], [\u001b[39m0\u001b[39;49m, \u001b[39m0\u001b[39;49m, \u001b[39m1.0\u001b[39;49m\u001b[39m/\u001b[39;49msqrt(x\u001b[39m*\u001b[39;49m\u001b[39m*\u001b[39;49m\u001b[39m2\u001b[39;49m \u001b[39m+\u001b[39;49m y\u001b[39m*\u001b[39;49m\u001b[39m*\u001b[39;49m\u001b[39m2\u001b[39;49m)]])\n",
      "\u001b[0;31mValueError\u001b[0m: setting an array element with a sequence. The requested array has an inhomogeneous shape after 2 dimensions. The detected shape was (3, 3) + inhomogeneous part."
     ]
    }
   ],
   "source": [
    "Xe_in = Xe[bool_array_e]\n",
    "Ye_in = Ye[bool_array_e]\n",
    "gij_in_e = func_gij(Xe_in, Ye_in)\n",
    "\n",
    "\n",
    "Xh_in = Xh[bool_array_h]\n",
    "Yh_in = Yh[bool_array_h]\n",
    "gij_in_h = func_gij(Xh_in, Yh_in)\n",
    "\n",
    "\n",
    "g_tensor_e[bool_array_e, :, :] = gij_in_e\n",
    "g_tensor_h[bool_array_h, :, :] = gij_in_h"
   ]
  },
  {
   "cell_type": "markdown",
   "metadata": {},
   "source": [
    "System setting is done"
   ]
  },
  {
   "cell_type": "code",
   "execution_count": 60,
   "metadata": {},
   "outputs": [],
   "source": [
    "from imfdtd.consts import c0, mu0, ep0"
   ]
  },
  {
   "cell_type": "code",
   "execution_count": 61,
   "metadata": {},
   "outputs": [
    {
     "data": {
      "text/plain": [
       "(0.002010050251256279, 0.002010050251256279)"
      ]
     },
     "execution_count": 61,
     "metadata": {},
     "output_type": "execute_result"
    }
   ],
   "source": [
    "dx = E_points[0][0][1] - E_points[0][0][0]\n",
    "dy = E_points[0][1][1] - E_points[0][1][0]\n",
    "dx, dy"
   ]
  },
  {
   "cell_type": "code",
   "execution_count": 62,
   "metadata": {},
   "outputs": [],
   "source": [
    "dt = min(dx, dy)/(2*c0)"
   ]
  },
  {
   "cell_type": "code",
   "execution_count": 63,
   "metadata": {},
   "outputs": [],
   "source": [
    "E_points, H_points\n",
    "E_field, H_field\n",
    "g_tensor_e, g_tensor_h\n",
    "D_field = E_field"
   ]
  },
  {
   "cell_type": "markdown",
   "metadata": {},
   "source": [
    "## Field time evolution\n",
    "\n",
    "$$\\frac{\\partial D_z}{\\partial t} = \\frac{1}{\\sqrt{\\epsilon_0 \\mu_0}}\\left (\\frac{\\partial H_y}{\\partial x} -\\frac{\\partial H_x}{\\partial y}\\right)$$\n"
   ]
  },
  {
   "cell_type": "markdown",
   "metadata": {},
   "source": [
    "```\n",
    "E[0,0]\n",
    "\n",
    "H[0,0], H[0, 1]\n",
    "H[1,0], H[1, 1]\n",
    "```\n",
    "\n",
    "$$\\begin{bmatrix}\n",
    "(i'+1, j'+1) & & (i'+1, j)\\\\\n",
    "& (i, j)& \\\\\n",
    "(i', j'+1)& &(i', j')\n",
    "\\end{bmatrix}$$\n",
    "\n",
    "* $dx$ direction: $j+$ \n",
    "* $dy$ direction: $i+$\n",
    "\n",
    "```\n",
    "H[1,1]\n",
    "\n",
    "E[0,0], E[0, 1]\n",
    "E[1,0], E[1, 1]\n",
    "```\n",
    "\n",
    "Let $i = i', j=j'$ in value.\n",
    "\n",
    "$$\\begin{bmatrix}\n",
    "(i-1, j-1) & & (i-1, j)\\\\\n",
    "& (i', j')& \\\\\n",
    "(i, j-1)& &(i, j)\n",
    "\\end{bmatrix}$$"
   ]
  },
  {
   "cell_type": "code",
   "execution_count": 414,
   "metadata": {},
   "outputs": [
    {
     "data": {
      "text/plain": [
       "3.3524029668155945e-12"
      ]
     },
     "execution_count": 414,
     "metadata": {},
     "output_type": "execute_result"
    }
   ],
   "source": [
    "D_field[...] = 0\n",
    "E_field[...] = 0\n",
    "H_field[...] = 0\n",
    "\n",
    "i=0\n",
    "t0 =0\n",
    "dt "
   ]
  },
  {
   "cell_type": "code",
   "execution_count": 415,
   "metadata": {},
   "outputs": [],
   "source": [
    "D_field[..., 2] = np.exp(-800*(E_points[0]**2 + E_points[1]**2))\n",
    "\n",
    "E_field = D_field\n",
    "\n",
    "H_field[1:, 1:-1, 0] = H_field[1:, 1:-1, 0] + (-0.5)*np.diff(E_field[..., 2], axis=1)\n",
    "H_field[1:-1, 1:, 1] = H_field[1:-1, 1:, 1] + 0.5*np.diff(E_field[..., 2], axis=0)"
   ]
  },
  {
   "cell_type": "code",
   "execution_count": 424,
   "metadata": {},
   "outputs": [],
   "source": [
    "D_field[..., 2] = D_field[..., 2] + 0.5* (\n",
    "        np.diff(H_field, axis=1)[:-1][..., 1] - np.diff(H_field, axis=0)[:, :-1][..., 0])\n",
    "E_field = D_field\n",
    "    #mv_mul(g_tensor_e, D_field)\n",
    "    \n",
    "H_field[1:, 1:-1, 0] = H_field[1:, 1:-1, 0] + (-0.5)*np.diff(E_field[..., 2], axis=1)\n",
    "H_field[1:-1, 1:, 1] = H_field[1:-1, 1:, 1] + 0.5*np.diff(E_field[..., 2], axis=0)\n",
    "    \n",
    "i +=1"
   ]
  },
  {
   "cell_type": "code",
   "execution_count": 431,
   "metadata": {},
   "outputs": [],
   "source": [
    "for j in range(0, 5):\n",
    "    D_field[..., 2] = D_field[..., 2] + 0.5* (\n",
    "        np.diff(H_field, axis=1)[:-1][..., 1] - np.diff(H_field, axis=0)[:, :-1][..., 0])\n",
    "    E_field = D_field\n",
    "    #mv_mul(g_tensor_e, D_field)\n",
    "    \n",
    "    H_field[1:, 1:-1, 0] = H_field[1:, 1:-1, 0] + (-0.5)*np.diff(E_field[..., 2], axis=1)\n",
    "    H_field[1:-1, 1:, 1] = H_field[1:-1, 1:, 1] + 0.5*np.diff(E_field[..., 2], axis=0)\n",
    "    \n",
    "    i +=1"
   ]
  },
  {
   "cell_type": "code",
   "execution_count": 432,
   "metadata": {},
   "outputs": [
    {
     "data": {
      "text/plain": [
       "<matplotlib.image.AxesImage at 0x15232d590>"
      ]
     },
     "execution_count": 432,
     "metadata": {},
     "output_type": "execute_result"
    },
    {
     "data": {
      "image/png": "[encoded data removed]",
      "text/plain": [
       "<Figure size 640x480 with 1 Axes>"
      ]
     },
     "metadata": {},
     "output_type": "display_data"
    }
   ],
   "source": [
    "plt.imshow(D_field[:, :,2])"
   ]
  },
  {
   "cell_type": "code",
   "execution_count": 419,
   "metadata": {},
   "outputs": [
    {
     "data": {
      "image/png": "[encoded data removed]",
      "text/plain": [
       "<Figure size 640x480 with 1 Axes>"
      ]
     },
     "metadata": {},
     "output_type": "display_data"
    }
   ],
   "source": [
    "fig = plt.figure()\n",
    "ax3d = fig.add_subplot(projection=\"3d\")\n",
    "ax3d.plot_surface(E_points[0], E_points[1], D_field[..., 2], cmap=\"magma\")\n",
    "fig.suptitle(f\"{i*dt}\")\n",
    "plt.show()"
   ]
  },
  {
   "cell_type": "code",
   "execution_count": null,
   "metadata": {},
   "outputs": [],
   "source": [
    "X,Y = np.meshgrid(np.linspace(-2, 2, 20), np.linspace(-2, 2, 20))\n",
    "Z = np."
   ]
  },
  {
   "cell_type": "code",
   "execution_count": 421,
   "metadata": {},
   "outputs": [
    {
     "data": {
      "text/plain": [
       "<matplotlib.image.AxesImage at 0x15221f410>"
      ]
     },
     "execution_count": 421,
     "metadata": {},
     "output_type": "execute_result"
    },
    {
     "data": {
      "image/png": "[encoded data removed]",
      "text/plain": [
       "<Figure size 640x480 with 1 Axes>"
      ]
     },
     "metadata": {},
     "output_type": "display_data"
    }
   ],
   "source": [
    "plt.imshow(D_field[:, :,2])"
   ]
  },
  {
   "cell_type": "code",
   "execution_count": 303,
   "metadata": {},
   "outputs": [
    {
     "data": {
      "text/plain": [
       "<StemContainer object of 3 artists>"
      ]
     },
     "execution_count": 303,
     "metadata": {},
     "output_type": "execute_result"
    },
    {
     "data": {
      "image/png": "[encoded data removed]",
      "text/plain": [
       "<Figure size 640x480 with 1 Axes>"
      ]
     },
     "metadata": {},
     "output_type": "display_data"
    }
   ],
   "source": [
    "fig, ax = plt.subplots()\n",
    "\n",
    "D_field[4,:, 2] = amp*np.sin(w*(t0+dt*i))\n",
    "    \n",
    "D_field[..., 2] = D_field[..., 2] + 0.5* (\n",
    "        np.diff(H_field, axis=1)[:-1][..., 1] - np.diff(H_field, axis=0)[:, :-1][..., 0])\n",
    "E_field = D_field\n",
    "    #mv_mul(g_tensor_e, D_field)\n",
    "    \n",
    "H_field[1:, 1:-1, 0] = H_field[1:, 1:-1, 0] + (-0.5)*np.diff(E_field[..., 2], axis=1)\n",
    "H_field[1:-1, 1:, 1] = H_field[1:-1, 1:, 1] + 0.5*np.diff(E_field[..., 2], axis=0)\n",
    "    \n",
    "i +=1\n",
    "    \n",
    "    #ax.imshow(D_field[:50, :,2])\n",
    "ax.stem(D_field[:50, 2, 2])\n",
    "#ax.vlines(0, 2, 4)"
   ]
  },
  {
   "cell_type": "code",
   "execution_count": 297,
   "metadata": {},
   "outputs": [
    {
     "data": {
      "text/plain": [
       "<StemContainer object of 3 artists>"
      ]
     },
     "execution_count": 297,
     "metadata": {},
     "output_type": "execute_result"
    },
    {
     "data": {
      "image/png": "[encoded data removed]",
      "text/plain": [
       "<Figure size 640x480 with 1 Axes>"
      ]
     },
     "metadata": {},
     "output_type": "display_data"
    }
   ],
   "source": [
    "fig, ax = plt.subplots()\n",
    "ax.stem(D_field[:15, 2, 2])"
   ]
  },
  {
   "cell_type": "code",
   "execution_count": 206,
   "metadata": {},
   "outputs": [
    {
     "ename": "AttributeError",
     "evalue": "module 'matplotlib.pyplot' has no attribute 'plot_surface'",
     "output_type": "error",
     "traceback": [
      "\u001b[0;31m---------------------------------------------------------------------------\u001b[0m",
      "\u001b[0;31mAttributeError\u001b[0m                            Traceback (most recent call last)",
      "Cell \u001b[0;32mIn[206], line 1\u001b[0m\n\u001b[0;32m----> 1\u001b[0m plt\u001b[39m.\u001b[39;49mplot_surface(E_points[\u001b[39m0\u001b[39m], E_points[\u001b[39m1\u001b[39m], D_field[\u001b[39m.\u001b[39m\u001b[39m.\u001b[39m\u001b[39m.\u001b[39m,\u001b[39m2\u001b[39m], cmap\u001b[39m=\u001b[39m\u001b[39m'\u001b[39m\u001b[39mRdBu\u001b[39m\u001b[39m'\u001b[39m)\n",
      "\u001b[0;31mAttributeError\u001b[0m: module 'matplotlib.pyplot' has no attribute 'plot_surface'"
     ]
    }
   ],
   "source": [
    "plt.plot_surface(E_points[0], E_points[1], D_field[...,2], cmap='RdBu')"
   ]
  },
  {
   "cell_type": "code",
   "execution_count": 201,
   "metadata": {},
   "outputs": [
    {
     "data": {
      "text/plain": [
       "<matplotlib.image.AxesImage at 0x140f32cd0>"
      ]
     },
     "execution_count": 201,
     "metadata": {},
     "output_type": "execute_result"
    },
    {
     "data": {
      "image/png": "[encoded data removed]",
      "text/plain": [
       "<Figure size 640x480 with 1 Axes>"
      ]
     },
     "metadata": {},
     "output_type": "display_data"
    }
   ],
   "source": [
    "plt.imshow(D_field[:40,:, 2])"
   ]
  },
  {
   "cell_type": "markdown",
   "metadata": {},
   "source": [
    "```\n",
    "E[0,0]\n",
    "\n",
    "H[0,0], H[0, 1]\n",
    "H[1,0], H[1, 1]\n",
    "```\n",
    "\n",
    "$$(i,j) -> (i +1, j+1), (i+1, j), (i,j+1), (i,j)$$\n",
    "\n",
    "* $dx$ direction: $j+$ \n",
    "* $dy$ direction: $i+$"
   ]
  },
  {
   "cell_type": "markdown",
   "metadata": {},
   "source": [
    "$$$$"
   ]
  },
  {
   "cell_type": "code",
   "execution_count": 90,
   "metadata": {},
   "outputs": [],
   "source": [
    "E_field[20: 40,:, 2] = 1"
   ]
  },
  {
   "cell_type": "code",
   "execution_count": 91,
   "metadata": {},
   "outputs": [
    {
     "data": {
      "text/plain": [
       "array([[0., 0., 0., ..., 0., 0., 0.],\n",
       "       [0., 0., 0., ..., 0., 0., 0.],\n",
       "       [0., 0., 0., ..., 0., 0., 0.],\n",
       "       ...,\n",
       "       [0., 0., 0., ..., 0., 0., 0.],\n",
       "       [0., 0., 0., ..., 0., 0., 0.],\n",
       "       [0., 0., 0., ..., 0., 0., 0.]])"
      ]
     },
     "execution_count": 91,
     "metadata": {},
     "output_type": "execute_result"
    }
   ],
   "source": [
    "E_field[..., 2]"
   ]
  },
  {
   "cell_type": "code",
   "execution_count": null,
   "metadata": {},
   "outputs": [],
   "source": []
  },
  {
   "cell_type": "code",
   "execution_count": 93,
   "metadata": {},
   "outputs": [
    {
     "data": {
      "text/plain": [
       "<matplotlib.image.AxesImage at 0x133bb8510>"
      ]
     },
     "execution_count": 93,
     "metadata": {},
     "output_type": "execute_result"
    },
    {
     "data": {
      "image/png": "[encoded data removed]",
      "text/plain": [
       "<Figure size 640x480 with 1 Axes>"
      ]
     },
     "metadata": {},
     "output_type": "display_data"
    }
   ],
   "source": [
    "plt.imshow(E_field[..., 2])"
   ]
  },
  {
   "cell_type": "code",
   "execution_count": null,
   "metadata": {},
   "outputs": [],
   "source": [
    "Ez_evolv"
   ]
  }
 ],
 "metadata": {
  "kernelspec": {
   "display_name": "Python 3",
   "language": "python",
   "name": "python3"
  },
  "language_info": {
   "codemirror_mode": {
    "name": "ipython",
    "version": 3
   },
   "file_extension": ".py",
   "mimetype": "text/x-python",
   "name": "python",
   "nbconvert_exporter": "python",
   "pygments_lexer": "ipython3",
   "version": "3.11.3"
  },
  "orig_nbformat": 4
 },
 "nbformat": 4,
 "nbformat_minor": 2
}
