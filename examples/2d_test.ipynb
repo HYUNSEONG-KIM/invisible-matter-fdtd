{
 "cells": [
  {
   "cell_type": "code",
   "execution_count": 1,
   "metadata": {},
   "outputs": [],
   "source": [
    "import os\n",
    "import sys\n",
    "module_path = os.path.abspath(os.path.join('..'))\n",
    "if module_path not in sys.path:\n",
    "    sys.path.append(module_path)\n"
   ]
  },
  {
   "cell_type": "code",
   "execution_count": 2,
   "metadata": {},
   "outputs": [],
   "source": [
    "import numpy as np\n",
    "from matplotlib import pyplot as plt\n",
    "from matplotlib import animation\n",
    "\n",
    "from imfdtd.fdtd import FDTD\n",
    "from imfdtd.consts import c0"
   ]
  },
  {
   "cell_type": "code",
   "execution_count": 3,
   "metadata": {},
   "outputs": [],
   "source": [
    "from imfdtd.utils import *\n",
    "from imfdtd.object import GeoObject\n",
    "\n",
    "from matplotlib.patches import Ellipse, PathPatch"
   ]
  },
  {
   "cell_type": "code",
   "execution_count": 4,
   "metadata": {},
   "outputs": [],
   "source": [
    "%matplotlib tk"
   ]
  },
  {
   "cell_type": "code",
   "execution_count": 5,
   "metadata": {},
   "outputs": [],
   "source": [
    "CM = 1E-2\n",
    "r1= 5*CM\n",
    "r2 = 10*CM"
   ]
  },
  {
   "cell_type": "code",
   "execution_count": 6,
   "metadata": {},
   "outputs": [],
   "source": [
    "fdtdsolver = FDTD([[-3*r2, 3*r2], [-3*r2, 3*r2]], [300, 300])"
   ]
  },
  {
   "cell_type": "code",
   "execution_count": 7,
   "metadata": {},
   "outputs": [],
   "source": [
    "Epoints, Hxpoints, Hypoints = FDTD.generate_yee_grid(\n",
    "    [[-4*r2, 4*r2], [-3*r2, 3*r2]], [400, 400]\n",
    "    )\n",
    "\n",
    "dx = Epoints[0][0][1]-Epoints[0][0][0]\n",
    "dt = dx/(2*c0) \n",
    "\n",
    "E_field = np.zeros((*Epoints[0].shape ,3))\n",
    "H_field_x = np.zeros((*Hxpoints[0].shape,))\n",
    "H_field_y = np.zeros((*Hypoints[0].shape,))\n",
    "\n",
    "X, Y = Epoints"
   ]
  },
  {
   "cell_type": "code",
   "execution_count": 8,
   "metadata": {},
   "outputs": [],
   "source": [
    "I3 = np.eye(3)\n",
    "rel_e_ten = np.zeros((*X.shape, 3, 3))\n",
    "rel_e_ten[..., : , :] = I3"
   ]
  },
  {
   "cell_type": "code",
   "execution_count": 9,
   "metadata": {},
   "outputs": [],
   "source": [
    "# Get relative tensor\n",
    "s_xyz, s_cylinder, s_sph = get_basic_coordinates()\n",
    "r_s, phi_s, z_s = s_cylinder\n",
    "R1, R2 = sp.symbols(\"R_1, R_2\")\n",
    "\n",
    "# Define transoformation\n",
    "u1 = R1 + ((R2- R1)/R1)*r_s\n",
    "u2 = phi_s\n",
    "u3 = z_s\n",
    "eq_coor = [u1.subs([(R1, r1),(R2, r2)]), u2, u3]\n",
    "syms = [r_s, phi_s, z_s]"
   ]
  },
  {
   "cell_type": "code",
   "execution_count": 10,
   "metadata": {},
   "outputs": [],
   "source": [
    "gt = get_invisible_tensor(eq_coor, syms, s_xyz)\n",
    "g_ij = get_func_gij(s_xyz[:2], gt)"
   ]
  },
  {
   "cell_type": "code",
   "execution_count": 11,
   "metadata": {},
   "outputs": [],
   "source": [
    "e_out = Ellipse([0,0], width = r2, height=r2, angle =0)\n",
    "e_in = Ellipse([0,0], width = r1, height=r1, angle =0)\n",
    "\n",
    "points = np.vstack([X.ravel(), Y.ravel()]).T"
   ]
  },
  {
   "cell_type": "code",
   "execution_count": 12,
   "metadata": {},
   "outputs": [],
   "source": [
    "# Get inner lattice\n",
    "p_index_out = e_out.contains_points(points) #\n",
    "p_index_in = e_in.contains_points(points)\n",
    "p_index = np.logical_xor(p_index_out, p_index_in) \n",
    "\n",
    "index = np.where(p_index)[0]\n",
    "\n",
    "nx, ny = X.shape\n",
    "row_i, col_i = (index/nx).astype(int), index%nx\n",
    "\n",
    "X_rel = X[row_i, col_i]\n",
    "Y_rel = Y[row_i, col_i]\n",
    "\n",
    "# Set rel_tensor value\n",
    "rel_e_ten[row_i, col_i,:,:] = g_ij(X_rel, Y_rel)"
   ]
  },
  {
   "cell_type": "code",
   "execution_count": 13,
   "metadata": {},
   "outputs": [],
   "source": [
    "rel_e = rel_e_ten[:,:, 2, 2]"
   ]
  },
  {
   "cell_type": "code",
   "execution_count": 14,
   "metadata": {},
   "outputs": [],
   "source": [
    "rel_e[:,:150] = 1\n",
    "rel_e[:, 250:] = 1"
   ]
  },
  {
   "cell_type": "code",
   "execution_count": 15,
   "metadata": {},
   "outputs": [
    {
     "data": {
      "text/plain": [
       "0.024993639306157365"
      ]
     },
     "execution_count": 15,
     "metadata": {},
     "output_type": "execute_result"
    }
   ],
   "source": [
    "rel_e.min()"
   ]
  },
  {
   "cell_type": "code",
   "execution_count": 16,
   "metadata": {},
   "outputs": [],
   "source": [
    "#plt.imshow(rel_e)"
   ]
  },
  {
   "cell_type": "code",
   "execution_count": 17,
   "metadata": {},
   "outputs": [],
   "source": [
    "#E_field[:, :, 2] = np.exp(-((X)**2+Y**2)/0.2) \n",
    "E_field[:, :, 2] = 5*np.exp(-((X)**2 + (Y)**2)/0.01) "
   ]
  },
  {
   "cell_type": "code",
   "execution_count": 18,
   "metadata": {},
   "outputs": [],
   "source": [
    "def curlE(E):\n",
    "    ny, nx = E.shape[:2]\n",
    "    curl_hx = np.zeros((ny+1, nx))\n",
    "    curl_hy = np.zeros((ny, nx+1))\n",
    "\n",
    "    curl_hx[1:-1,:] = curl_hx[1:-1,:] + np.diff(E[:,:,2], axis=0)\n",
    "    curl_hy[:,1:-1] = curl_hy[:,1:-1] - np.diff(E[:,:,2], axis=1)\n",
    "    return curl_hx, curl_hy\n",
    "def curlH(Hx, Hy):\n",
    "    return np.diff(Hy, axis=1)- np.diff(Hx, axis=0)\n",
    "\n",
    "def mv_mul(\n",
    "        matrix_arr:np.ndarray, \n",
    "        vector_arr:np.ndarray):\n",
    "    # Ensure that the shapes of the input arrays are compatible\n",
    "    assert matrix_arr.shape[:2] == vector_arr.shape[:2], \"Shapes of matrix and vector arrays must be the same (N, M).\"\n",
    "    assert matrix_arr.shape[-2:] == (3, 3), \"Matrix array must have shape (N, M, 3, 3).\"\n",
    "    assert vector_arr.shape[-1] == 3, \"Vector array must have shape (N, M, 3).\"\n",
    "\n",
    "    # Perform element-wise matrix-vector multiplication\n",
    "    result = np.einsum('ijkl,ijl->ijk', matrix_arr, vector_arr)\n",
    "\n",
    "    return result"
   ]
  },
  {
   "cell_type": "code",
   "execution_count": 19,
   "metadata": {},
   "outputs": [],
   "source": [
    "#%matplotlib tk "
   ]
  },
  {
   "cell_type": "code",
   "execution_count": 20,
   "metadata": {},
   "outputs": [],
   "source": [
    "curl_hx, curl_hy = curlE(E_field)\n",
    "H_field_x -= 0.5*curl_hx\n",
    "H_field_y -= 0.5*curl_hy\n",
    "E_field[:,:, 2] = 0.5*curlH(H_field_x, H_field_y)"
   ]
  },
  {
   "cell_type": "code",
   "execution_count": 24,
   "metadata": {},
   "outputs": [],
   "source": [
    "E_field = np.zeros((*Epoints[0].shape ,3))\n",
    "D_field = np.zeros((*Epoints[0].shape ,3))\n",
    "H_field_x = np.zeros((*Hxpoints[0].shape,))\n",
    "H_field_y = np.zeros((*Hypoints[0].shape,))"
   ]
  },
  {
   "cell_type": "code",
   "execution_count": 22,
   "metadata": {},
   "outputs": [],
   "source": [
    "def func_animate(frame_index, E_field, H_field_x, H_field_y, e_out, e_in):\n",
    "    #print(frame_index)\n",
    "    curl_hx, curl_hy = curlE(E_field)\n",
    "    H_field_x -= 0.5*curl_hx\n",
    "    H_field_y -= 0.5*curl_hy\n",
    "    D_field[:,:, 2] += 0.5*curlH(H_field_x, H_field_y)\n",
    "    E_field[:,:, 2] = rel_e*D_field[:,:, 2] \n",
    "\n",
    "    # Source\n",
    "    p_index =  (X<-3.3*r2)\n",
    "    E_field[p_index, 2] = np.sin(5E10*dt*frame_index)\n",
    "    #p_index = ((X+r2)**2 + (Y)**2)<0.00005\n",
    "\n",
    "    #E_field[p_index, 2] = 5*np.exp(-((X+r2)**2 + (Y)**2)/0.05)[p_index]*np.sin(5E10*dt*frame_index)\n",
    "\n",
    "    image.set_data(E_field[:, :, 2])\n",
    "    ax.set_title(str(frame_index))\n",
    "    #ax.add_patch(e_out)\n",
    "    #ax.add_patch(e_in)\n",
    "    #print(frame_index)\n",
    "    return image, ax"
   ]
  },
  {
   "cell_type": "code",
   "execution_count": 23,
   "metadata": {},
   "outputs": [],
   "source": [
    "fig = plt.figure()\n",
    "ax = fig.gca()\n",
    "\n",
    "im = np.random.randn(100,100)\n",
    "image = ax.imshow(E_field[:,:,2], animated=True, cmap=\"magma\", vmin=-1., vmax=1.)\n",
    "\n",
    "anim = animation.FuncAnimation(fig, \n",
    "    func_animate, \n",
    "    fargs = [E_field, H_field_x, H_field_y, e_out, e_in],\n",
    "    interval=10, frames=300, blit=True)\n",
    "plt.show()"
   ]
  },
  {
   "cell_type": "markdown",
   "metadata": {},
   "source": [
    "---"
   ]
  }
 ],
 "metadata": {
  "kernelspec": {
   "display_name": "Python 3",
   "language": "python",
   "name": "python3"
  },
  "language_info": {
   "codemirror_mode": {
    "name": "ipython",
    "version": 3
   },
   "file_extension": ".py",
   "mimetype": "text/x-python",
   "name": "python",
   "nbconvert_exporter": "python",
   "pygments_lexer": "ipython3",
   "version": "3.11.3"
  },
  "orig_nbformat": 4
 },
 "nbformat": 4,
 "nbformat_minor": 2
}
