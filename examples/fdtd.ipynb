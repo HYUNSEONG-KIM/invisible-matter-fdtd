{
 "cells": [
  {
   "cell_type": "code",
   "execution_count": 1,
   "metadata": {},
   "outputs": [],
   "source": [
    "import os\n",
    "import sys\n",
    "module_path = os.path.abspath(os.path.join('..'))\n",
    "if module_path not in sys.path:\n",
    "    sys.path.append(module_path)\n"
   ]
  },
  {
   "cell_type": "code",
   "execution_count": 2,
   "metadata": {},
   "outputs": [],
   "source": [
    "import numpy as np\n",
    "from matplotlib import pyplot as plt\n",
    "\n",
    "from sympy import symbols, sin, cos, tan ,exp\n",
    "from sympy import lambdify\n",
    "from sympy import S\n",
    "import sympy as sp\n",
    "\n",
    "import imfdtd.utils as tfdtd"
   ]
  },
  {
   "cell_type": "code",
   "execution_count": 3,
   "metadata": {},
   "outputs": [],
   "source": [
    "# Matrix multiplication\n",
    "def mv_mul(\n",
    "        matrix_arr:np.ndarray, \n",
    "        vector_arr:np.ndarray):\n",
    "    # Ensure that the shapes of the input arrays are compatible\n",
    "    assert matrix_arr.shape[:2] == vector_arr.shape[:2], \"Shapes of matrix and vector arrays must be the same (N, M).\"\n",
    "    assert matrix_arr.shape[-2:] == (3, 3), \"Matrix array must have shape (N, M, 3, 3).\"\n",
    "    assert vector_arr.shape[-1] == 3, \"Vector array must have shape (N, M, 3).\"\n",
    "\n",
    "    # Perform element-wise matrix-vector multiplication\n",
    "    result = np.einsum('ijkl,ijl->ijk', matrix_arr, vector_arr)\n",
    "\n",
    "    return result"
   ]
  },
  {
   "cell_type": "code",
   "execution_count": 4,
   "metadata": {},
   "outputs": [],
   "source": [
    "CM = 1E-2\n",
    "r1= 5*CM\n",
    "r2 = 10*CM"
   ]
  },
  {
   "cell_type": "code",
   "execution_count": 5,
   "metadata": {},
   "outputs": [
    {
     "name": "stdout",
     "output_type": "stream",
     "text": [
      "-0.3 0.3\n"
     ]
    }
   ],
   "source": [
    "xlim = np.array([-20*CM, 20*CM])\n",
    "ylim = np.array([-30*CM, 30*CM])\n",
    "Points, Fields, Tensor = tfdtd.prepare_simulation([\n",
    "    xlim,ylim], [200, 300])\n",
    "E_points, H_points = Points\n",
    "E_field, H_field = Fields\n",
    "g_tensor_e, g_tensor_h = Tensor"
   ]
  },
  {
   "cell_type": "code",
   "execution_count": 6,
   "metadata": {},
   "outputs": [],
   "source": [
    "# Get relative tensor\n",
    "s_xyz, s_cylinder, s_sph = tfdtd.get_basic_coordinates()\n",
    "r_s, phi_s, z_s = s_cylinder\n",
    "R1, R2 = sp.symbols(\"R_1, R_2\")"
   ]
  },
  {
   "cell_type": "code",
   "execution_count": 7,
   "metadata": {},
   "outputs": [],
   "source": [
    "# Define transformation\n",
    "u1 = R1 + ((R2- R1)/R1)*r_s\n",
    "u2 = phi_s\n",
    "u3 = z_s\n",
    "eq_coor = [u1.subs([(R1, r1),(R2, r2)]), u2, u3]\n",
    "syms = [r_s, phi_s, z_s]"
   ]
  },
  {
   "cell_type": "code",
   "execution_count": 9,
   "metadata": {},
   "outputs": [
    {
     "data": {
      "text/latex": [
       "$\\displaystyle \\left[\\begin{matrix}\\frac{1.0 x^{4} \\sqrt{x^{2} + y^{2}} + 1.0 x^{2} y^{2} \\sqrt{x^{2} + y^{2}} + 1.0 y^{2} \\sqrt{x^{2} + y^{2}}}{1.0 x^{4} + 2.0 x^{2} y^{2} + 1.0 y^{4}} & \\frac{1.0 x^{3} y \\sqrt{x^{2} + y^{2}} + 1.0 x y^{3} \\sqrt{x^{2} + y^{2}} - 1.0 x y \\sqrt{x^{2} + y^{2}}}{1.0 x^{4} + 2.0 x^{2} y^{2} + 1.0 y^{4}} & 0\\\\\\frac{1.0 x^{3} y + 1.0 x y^{3} - 1.0 x y}{1.0 x^{2} \\sqrt{x^{2} + y^{2}} + 1.0 y^{2} \\sqrt{x^{2} + y^{2}}} & \\frac{1.0 x^{2} y^{2} + 1.0 x^{2} + 1.0 y^{4}}{1.0 x^{2} \\sqrt{x^{2} + y^{2}} + 1.0 y^{2} \\sqrt{x^{2} + y^{2}}} & 0\\\\0 & 0 & 1.0 \\sqrt{x^{2} + y^{2}}\\end{matrix}\\right]$"
      ],
      "text/plain": [
       "Matrix([\n",
       "[(1.0*x**4*sqrt(x**2 + y**2) + 1.0*x**2*y**2*sqrt(x**2 + y**2) + 1.0*y**2*sqrt(x**2 + y**2))/(1.0*x**4 + 2.0*x**2*y**2 + 1.0*y**4), (1.0*x**3*y*sqrt(x**2 + y**2) + 1.0*x*y**3*sqrt(x**2 + y**2) - 1.0*x*y*sqrt(x**2 + y**2))/(1.0*x**4 + 2.0*x**2*y**2 + 1.0*y**4),                     0],\n",
       "[                                    (1.0*x**3*y + 1.0*x*y**3 - 1.0*x*y)/(1.0*x**2*sqrt(x**2 + y**2) + 1.0*y**2*sqrt(x**2 + y**2)),                                 (1.0*x**2*y**2 + 1.0*x**2 + 1.0*y**4)/(1.0*x**2*sqrt(x**2 + y**2) + 1.0*y**2*sqrt(x**2 + y**2)),                     0],\n",
       "[                                                                                                                                0,                                                                                                                               0, 1.0*sqrt(x**2 + y**2)]])"
      ]
     },
     "execution_count": 9,
     "metadata": {},
     "output_type": "execute_result"
    }
   ],
   "source": [
    "gt = tfdtd.get_invisible_tensor(eq_coor, syms, s_xyz)\n",
    "gt"
   ]
  },
  {
   "cell_type": "code",
   "execution_count": 10,
   "metadata": {},
   "outputs": [],
   "source": [
    "gt = gt.inv()"
   ]
  },
  {
   "cell_type": "code",
   "execution_count": 11,
   "metadata": {},
   "outputs": [
    {
     "data": {
      "text/latex": [
       "$\\displaystyle \\left[\\begin{matrix}0.05 & 0 & 0\\\\0 & 20.0 & 0\\\\0 & 0 & 20.0\\end{matrix}\\right]$"
      ],
      "text/plain": [
       "Matrix([\n",
       "[0.05,    0,    0],\n",
       "[   0, 20.0,    0],\n",
       "[   0,    0, 20.0]])"
      ]
     },
     "execution_count": 11,
     "metadata": {},
     "output_type": "execute_result"
    }
   ],
   "source": [
    "gt.subs([(s_xyz[0], 0),(s_xyz[1], (r1+r2)/3)])"
   ]
  },
  {
   "cell_type": "code",
   "execution_count": 16,
   "metadata": {},
   "outputs": [],
   "source": [
    "func_gij = tfdtd.get_func_gij([s_xyz[0], s_xyz[1]], gt)"
   ]
  },
  {
   "cell_type": "code",
   "execution_count": 28,
   "metadata": {},
   "outputs": [],
   "source": [
    "_g_ij = sp.lambdify([s_xyz[0], s_xyz[1]], gt, modules=\"numpy\")"
   ]
  },
  {
   "cell_type": "code",
   "execution_count": null,
   "metadata": {},
   "outputs": [],
   "source": []
  },
  {
   "cell_type": "code",
   "execution_count": 23,
   "metadata": {},
   "outputs": [],
   "source": [
    "from matplotlib.patches import Ellipse, PathPatch\n",
    "import  matplotlib.pyplot as plt"
   ]
  },
  {
   "cell_type": "code",
   "execution_count": 24,
   "metadata": {},
   "outputs": [],
   "source": [
    "#Ellipse\n",
    "a = r2\n",
    "b = r2\n",
    "angle = 0\n",
    "\n",
    "ellipse_out = Ellipse([0,0], width = a, height =b, angle=angle)\n",
    "ellipse_in = Ellipse([0,0], width = r1, height=r1)\n",
    "\n",
    "e_path_out = ellipse_out.get_path()\n",
    "e_transform_out = ellipse_out.get_transform()\n",
    "e_path_out_poly = e_transform_out.transform_path(e_path_out)\n",
    "\n",
    "e_path_in = ellipse_in.get_path()\n",
    "e_transform_in = ellipse_in.get_transform()\n",
    "e_path_in_poly = e_transform_in.transform_path(e_path_in)\n"
   ]
  },
  {
   "cell_type": "code",
   "execution_count": 25,
   "metadata": {},
   "outputs": [],
   "source": [
    "# Calculate inner points index\n",
    "\n",
    "Xe,Ye = E_points\n",
    "n, m = Xe.shape\n",
    "points = np.vstack([Xe.ravel(), Ye.ravel()]).T\n",
    "p_bool_out = e_path_out_poly.contains_points(points) #\n",
    "p_bool_in = e_path_in_poly.contains_points(points)\n",
    "p_bool  = np.logical_xor(p_bool_out, p_bool_in)\n",
    "index_r = index_c =  np.where(p_bool)[0]\n",
    "index_r = (index_r/m).astype(int)\n",
    "index_c = (index_c%m).astype(int)\n",
    "bool_array_e = np.zeros((n, m), dtype=bool)\n",
    "bool_array_e[index_r, index_c] = True\n",
    "\n",
    "Xh,Yh = H_points\n",
    "nh, mh = Xh.shape\n",
    "points_h = np.vstack([Xh.ravel(), Yh.ravel()]).T\n",
    "p_bool_out_h = e_path_out_poly.contains_points(points_h) #\n",
    "p_bool_in_h = e_path_in_poly.contains_points(points_h)\n",
    "p_bool_h  = np.logical_xor(p_bool_out_h, p_bool_in_h)\n",
    "index_rh = index_ch =  np.where(p_bool_h)[0]\n",
    "index_rh = (index_rh/mh).astype(int)\n",
    "index_ch = (index_ch%mh).astype(int)\n",
    "\n",
    "bool_array_h = np.zeros((nh, mh), dtype=bool)\n",
    "bool_array_h[index_rh, index_ch] = True\n"
   ]
  },
  {
   "cell_type": "code",
   "execution_count": 26,
   "metadata": {},
   "outputs": [
    {
     "data": {
      "image/png": "[encoded data removed]",
      "text/plain": [
       "<Figure size 640x480 with 1 Axes>"
      ]
     },
     "metadata": {},
     "output_type": "display_data"
    }
   ],
   "source": [
    "fig, ax = plt.subplots()\n",
    "e_polygon_out = PathPatch(e_path_out_poly, facecolor='none')\n",
    "e_polygon_in = PathPatch(e_path_in_poly, facecolor='none')\n",
    "\n",
    "ax.add_patch(e_polygon_out)\n",
    "ax.add_patch(e_polygon_in)\n",
    "ax.scatter(E_points[0], E_points[1], c=\"r\", s=6)\n",
    "\n",
    "ax.scatter(Xe[bool_array_e], Ye[bool_array_e], c=\"b\", s= 6)\n",
    "ax.scatter(Xh[bool_array_h], Yh[bool_array_h], c=\"g\", s= 8)\n",
    "\n",
    "#ax.scatter(H_p[0], H_p[1], c=\"b\", s=10)\n",
    "\n",
    "ax.set_ylim(0.015, ylim[1]/8)\n",
    "ax.set_xlim(*xlim/20)\n",
    "ax.set_aspect('equal', adjustable='box')\n",
    "fig.suptitle(\"Yee Lattice and Object inner points.\")\n",
    "plt.show()"
   ]
  },
  {
   "cell_type": "code",
   "execution_count": 29,
   "metadata": {},
   "outputs": [],
   "source": [
    "Xe_in = Xe[bool_array_e]\n",
    "Ye_in = Ye[bool_array_e]"
   ]
  },
  {
   "cell_type": "code",
   "execution_count": 30,
   "metadata": {},
   "outputs": [
    {
     "ename": "ValueError",
     "evalue": "setting an array element with a sequence. The requested array has an inhomogeneous shape after 2 dimensions. The detected shape was (3, 3) + inhomogeneous part.",
     "output_type": "error",
     "traceback": [
      "\u001b[0;31m---------------------------------------------------------------------------\u001b[0m",
      "\u001b[0;31mValueError\u001b[0m                                Traceback (most recent call last)",
      "Cell \u001b[0;32mIn[30], line 1\u001b[0m\n\u001b[0;32m----> 1\u001b[0m _g_ij(Xe_in, Ye_in)\n",
      "File \u001b[0;32m<lambdifygenerated-2>:2\u001b[0m, in \u001b[0;36m_lambdifygenerated\u001b[0;34m(x, y)\u001b[0m\n\u001b[1;32m      1\u001b[0m \u001b[39mdef\u001b[39;00m \u001b[39m_lambdifygenerated\u001b[39m(x, y):\n\u001b[0;32m----> 2\u001b[0m     \u001b[39mreturn\u001b[39;00m array([[(\u001b[39m1.0\u001b[39;49m\u001b[39m*\u001b[39;49mx\u001b[39m*\u001b[39;49m\u001b[39m*\u001b[39;49m\u001b[39m2\u001b[39;49m\u001b[39m*\u001b[39;49my\u001b[39m*\u001b[39;49m\u001b[39m*\u001b[39;49m\u001b[39m2\u001b[39;49m \u001b[39m+\u001b[39;49m \u001b[39m1.0\u001b[39;49m\u001b[39m*\u001b[39;49mx\u001b[39m*\u001b[39;49m\u001b[39m*\u001b[39;49m\u001b[39m2\u001b[39;49m \u001b[39m+\u001b[39;49m \u001b[39m1.0\u001b[39;49m\u001b[39m*\u001b[39;49my\u001b[39m*\u001b[39;49m\u001b[39m*\u001b[39;49m\u001b[39m4\u001b[39;49m)\u001b[39m/\u001b[39;49m(\u001b[39m1.0\u001b[39;49m\u001b[39m*\u001b[39;49mx\u001b[39m*\u001b[39;49m\u001b[39m*\u001b[39;49m\u001b[39m2\u001b[39;49m\u001b[39m*\u001b[39;49msqrt(x\u001b[39m*\u001b[39;49m\u001b[39m*\u001b[39;49m\u001b[39m2\u001b[39;49m \u001b[39m+\u001b[39;49m y\u001b[39m*\u001b[39;49m\u001b[39m*\u001b[39;49m\u001b[39m2\u001b[39;49m) \u001b[39m+\u001b[39;49m \u001b[39m1.0\u001b[39;49m\u001b[39m*\u001b[39;49my\u001b[39m*\u001b[39;49m\u001b[39m*\u001b[39;49m\u001b[39m2\u001b[39;49m\u001b[39m*\u001b[39;49msqrt(x\u001b[39m*\u001b[39;49m\u001b[39m*\u001b[39;49m\u001b[39m2\u001b[39;49m \u001b[39m+\u001b[39;49m y\u001b[39m*\u001b[39;49m\u001b[39m*\u001b[39;49m\u001b[39m2\u001b[39;49m)), (\u001b[39m-\u001b[39;49m\u001b[39m0.25\u001b[39;49m\u001b[39m*\u001b[39;49mx\u001b[39m*\u001b[39;49m\u001b[39m*\u001b[39;49m\u001b[39m3\u001b[39;49m\u001b[39m*\u001b[39;49my \u001b[39m-\u001b[39;49m \u001b[39m0.25\u001b[39;49m\u001b[39m*\u001b[39;49mx\u001b[39m*\u001b[39;49my\u001b[39m*\u001b[39;49m\u001b[39m*\u001b[39;49m\u001b[39m3\u001b[39;49m \u001b[39m+\u001b[39;49m \u001b[39m0.25\u001b[39;49m\u001b[39m*\u001b[39;49mx\u001b[39m*\u001b[39;49my)\u001b[39m/\u001b[39;49m(\u001b[39m0.25\u001b[39;49m\u001b[39m*\u001b[39;49mx\u001b[39m*\u001b[39;49m\u001b[39m*\u001b[39;49m\u001b[39m2\u001b[39;49m\u001b[39m*\u001b[39;49msqrt(x\u001b[39m*\u001b[39;49m\u001b[39m*\u001b[39;49m\u001b[39m2\u001b[39;49m \u001b[39m+\u001b[39;49m y\u001b[39m*\u001b[39;49m\u001b[39m*\u001b[39;49m\u001b[39m2\u001b[39;49m) \u001b[39m+\u001b[39;49m \u001b[39m0.25\u001b[39;49m\u001b[39m*\u001b[39;49my\u001b[39m*\u001b[39;49m\u001b[39m*\u001b[39;49m\u001b[39m2\u001b[39;49m\u001b[39m*\u001b[39;49msqrt(x\u001b[39m*\u001b[39;49m\u001b[39m*\u001b[39;49m\u001b[39m2\u001b[39;49m \u001b[39m+\u001b[39;49m y\u001b[39m*\u001b[39;49m\u001b[39m*\u001b[39;49m\u001b[39m2\u001b[39;49m)), \u001b[39m0\u001b[39;49m], [(\u001b[39m-\u001b[39;49m\u001b[39m1.0\u001b[39;49m\u001b[39m*\u001b[39;49mx\u001b[39m*\u001b[39;49m\u001b[39m*\u001b[39;49m\u001b[39m3\u001b[39;49m\u001b[39m*\u001b[39;49my \u001b[39m-\u001b[39;49m \u001b[39m1.0\u001b[39;49m\u001b[39m*\u001b[39;49mx\u001b[39m*\u001b[39;49my\u001b[39m*\u001b[39;49m\u001b[39m*\u001b[39;49m\u001b[39m3\u001b[39;49m \u001b[39m+\u001b[39;49m \u001b[39m1.0\u001b[39;49m\u001b[39m*\u001b[39;49mx\u001b[39m*\u001b[39;49my)\u001b[39m/\u001b[39;49m(\u001b[39m1.0\u001b[39;49m\u001b[39m*\u001b[39;49mx\u001b[39m*\u001b[39;49m\u001b[39m*\u001b[39;49m\u001b[39m2\u001b[39;49m\u001b[39m*\u001b[39;49msqrt(x\u001b[39m*\u001b[39;49m\u001b[39m*\u001b[39;49m\u001b[39m2\u001b[39;49m \u001b[39m+\u001b[39;49m y\u001b[39m*\u001b[39;49m\u001b[39m*\u001b[39;49m\u001b[39m2\u001b[39;49m) \u001b[39m+\u001b[39;49m \u001b[39m1.0\u001b[39;49m\u001b[39m*\u001b[39;49my\u001b[39m*\u001b[39;49m\u001b[39m*\u001b[39;49m\u001b[39m2\u001b[39;49m\u001b[39m*\u001b[39;49msqrt(x\u001b[39m*\u001b[39;49m\u001b[39m*\u001b[39;49m\u001b[39m2\u001b[39;49m \u001b[39m+\u001b[39;49m y\u001b[39m*\u001b[39;49m\u001b[39m*\u001b[39;49m\u001b[39m2\u001b[39;49m)), (\u001b[39m1.0\u001b[39;49m\u001b[39m*\u001b[39;49mx\u001b[39m*\u001b[39;49m\u001b[39m*\u001b[39;49m\u001b[39m4\u001b[39;49m\u001b[39m*\u001b[39;49msqrt(x\u001b[39m*\u001b[39;49m\u001b[39m*\u001b[39;49m\u001b[39m2\u001b[39;49m \u001b[39m+\u001b[39;49m y\u001b[39m*\u001b[39;49m\u001b[39m*\u001b[39;49m\u001b[39m2\u001b[39;49m) \u001b[39m+\u001b[39;49m \u001b[39m1.0\u001b[39;49m\u001b[39m*\u001b[39;49mx\u001b[39m*\u001b[39;49m\u001b[39m*\u001b[39;49m\u001b[39m2\u001b[39;49m\u001b[39m*\u001b[39;49my\u001b[39m*\u001b[39;49m\u001b[39m*\u001b[39;49m\u001b[39m2\u001b[39;49m\u001b[39m*\u001b[39;49msqrt(x\u001b[39m*\u001b[39;49m\u001b[39m*\u001b[39;49m\u001b[39m2\u001b[39;49m \u001b[39m+\u001b[39;49m y\u001b[39m*\u001b[39;49m\u001b[39m*\u001b[39;49m\u001b[39m2\u001b[39;49m) \u001b[39m+\u001b[39;49m \u001b[39m1.0\u001b[39;49m\u001b[39m*\u001b[39;49my\u001b[39m*\u001b[39;49m\u001b[39m*\u001b[39;49m\u001b[39m2\u001b[39;49m\u001b[39m*\u001b[39;49msqrt(x\u001b[39m*\u001b[39;49m\u001b[39m*\u001b[39;49m\u001b[39m2\u001b[39;49m \u001b[39m+\u001b[39;49m y\u001b[39m*\u001b[39;49m\u001b[39m*\u001b[39;49m\u001b[39m2\u001b[39;49m))\u001b[39m/\u001b[39;49m(\u001b[39m1.0\u001b[39;49m\u001b[39m*\u001b[39;49mx\u001b[39m*\u001b[39;49m\u001b[39m*\u001b[39;49m\u001b[39m4\u001b[39;49m \u001b[39m+\u001b[39;49m \u001b[39m2.0\u001b[39;49m\u001b[39m*\u001b[39;49mx\u001b[39m*\u001b[39;49m\u001b[39m*\u001b[39;49m\u001b[39m2\u001b[39;49m\u001b[39m*\u001b[39;49my\u001b[39m*\u001b[39;49m\u001b[39m*\u001b[39;49m\u001b[39m2\u001b[39;49m \u001b[39m+\u001b[39;49m \u001b[39m1.0\u001b[39;49m\u001b[39m*\u001b[39;49my\u001b[39m*\u001b[39;49m\u001b[39m*\u001b[39;49m\u001b[39m4\u001b[39;49m), \u001b[39m0\u001b[39;49m], [\u001b[39m0\u001b[39;49m, \u001b[39m0\u001b[39;49m, \u001b[39m1.0\u001b[39;49m\u001b[39m/\u001b[39;49msqrt(x\u001b[39m*\u001b[39;49m\u001b[39m*\u001b[39;49m\u001b[39m2\u001b[39;49m \u001b[39m+\u001b[39;49m y\u001b[39m*\u001b[39;49m\u001b[39m*\u001b[39;49m\u001b[39m2\u001b[39;49m)]])\n",
      "\u001b[0;31mValueError\u001b[0m: setting an array element with a sequence. The requested array has an inhomogeneous shape after 2 dimensions. The detected shape was (3, 3) + inhomogeneous part."
     ]
    }
   ],
   "source": [
    "_g_ij(Xe_in, Ye_in)"
   ]
  },
  {
   "cell_type": "code",
   "execution_count": 27,
   "metadata": {},
   "outputs": [
    {
     "ename": "ValueError",
     "evalue": "setting an array element with a sequence. The requested array has an inhomogeneous shape after 2 dimensions. The detected shape was (3, 3) + inhomogeneous part.",
     "output_type": "error",
     "traceback": [
      "\u001b[0;31m---------------------------------------------------------------------------\u001b[0m",
      "\u001b[0;31mValueError\u001b[0m                                Traceback (most recent call last)",
      "Cell \u001b[0;32mIn[27], line 3\u001b[0m\n\u001b[1;32m      1\u001b[0m Xe_in \u001b[39m=\u001b[39m Xe[bool_array_e]\n\u001b[1;32m      2\u001b[0m Ye_in \u001b[39m=\u001b[39m Ye[bool_array_e]\n\u001b[0;32m----> 3\u001b[0m gij_in_e \u001b[39m=\u001b[39m func_gij(Xe_in, Ye_in)\n\u001b[1;32m      6\u001b[0m Xh_in \u001b[39m=\u001b[39m Xh[bool_array_h]\n\u001b[1;32m      7\u001b[0m Yh_in \u001b[39m=\u001b[39m Yh[bool_array_h]\n",
      "File \u001b[0;32m~/Documents/GitHub/invisible-matter-fdtd/imfdtd/utils.py:103\u001b[0m, in \u001b[0;36mget_func_gij.<locals>.func_g_ij\u001b[0;34m(*args)\u001b[0m\n\u001b[1;32m    101\u001b[0m dim \u001b[39m=\u001b[39m \u001b[39mlen\u001b[39m(data_shape)\n\u001b[1;32m    102\u001b[0m ones\u001b[39m=\u001b[39m np\u001b[39m.\u001b[39mones(data_shape)\n\u001b[0;32m--> 103\u001b[0m result_arr \u001b[39m=\u001b[39m _g_ij(\u001b[39m*\u001b[39;49margs)\n\u001b[1;32m    104\u001b[0m \u001b[39m# Fixing ragged nested elements\u001b[39;00m\n\u001b[1;32m    105\u001b[0m \u001b[39mfor\u001b[39;00m (i, j) \u001b[39min\u001b[39;00m constant_index:\n",
      "File \u001b[0;32m<lambdifygenerated-1>:2\u001b[0m, in \u001b[0;36m_lambdifygenerated\u001b[0;34m(x, y)\u001b[0m\n\u001b[1;32m      1\u001b[0m \u001b[39mdef\u001b[39;00m \u001b[39m_lambdifygenerated\u001b[39m(x, y):\n\u001b[0;32m----> 2\u001b[0m     \u001b[39mreturn\u001b[39;00m array([[(\u001b[39m1.0\u001b[39;49m\u001b[39m*\u001b[39;49mx\u001b[39m*\u001b[39;49m\u001b[39m*\u001b[39;49m\u001b[39m2\u001b[39;49m\u001b[39m*\u001b[39;49my\u001b[39m*\u001b[39;49m\u001b[39m*\u001b[39;49m\u001b[39m2\u001b[39;49m \u001b[39m+\u001b[39;49m \u001b[39m1.0\u001b[39;49m\u001b[39m*\u001b[39;49mx\u001b[39m*\u001b[39;49m\u001b[39m*\u001b[39;49m\u001b[39m2\u001b[39;49m \u001b[39m+\u001b[39;49m \u001b[39m1.0\u001b[39;49m\u001b[39m*\u001b[39;49my\u001b[39m*\u001b[39;49m\u001b[39m*\u001b[39;49m\u001b[39m4\u001b[39;49m)\u001b[39m/\u001b[39;49m(\u001b[39m1.0\u001b[39;49m\u001b[39m*\u001b[39;49mx\u001b[39m*\u001b[39;49m\u001b[39m*\u001b[39;49m\u001b[39m2\u001b[39;49m\u001b[39m*\u001b[39;49msqrt(x\u001b[39m*\u001b[39;49m\u001b[39m*\u001b[39;49m\u001b[39m2\u001b[39;49m \u001b[39m+\u001b[39;49m y\u001b[39m*\u001b[39;49m\u001b[39m*\u001b[39;49m\u001b[39m2\u001b[39;49m) \u001b[39m+\u001b[39;49m \u001b[39m1.0\u001b[39;49m\u001b[39m*\u001b[39;49my\u001b[39m*\u001b[39;49m\u001b[39m*\u001b[39;49m\u001b[39m2\u001b[39;49m\u001b[39m*\u001b[39;49msqrt(x\u001b[39m*\u001b[39;49m\u001b[39m*\u001b[39;49m\u001b[39m2\u001b[39;49m \u001b[39m+\u001b[39;49m y\u001b[39m*\u001b[39;49m\u001b[39m*\u001b[39;49m\u001b[39m2\u001b[39;49m)), (\u001b[39m-\u001b[39;49m\u001b[39m0.25\u001b[39;49m\u001b[39m*\u001b[39;49mx\u001b[39m*\u001b[39;49m\u001b[39m*\u001b[39;49m\u001b[39m3\u001b[39;49m\u001b[39m*\u001b[39;49my \u001b[39m-\u001b[39;49m \u001b[39m0.25\u001b[39;49m\u001b[39m*\u001b[39;49mx\u001b[39m*\u001b[39;49my\u001b[39m*\u001b[39;49m\u001b[39m*\u001b[39;49m\u001b[39m3\u001b[39;49m \u001b[39m+\u001b[39;49m \u001b[39m0.25\u001b[39;49m\u001b[39m*\u001b[39;49mx\u001b[39m*\u001b[39;49my)\u001b[39m/\u001b[39;49m(\u001b[39m0.25\u001b[39;49m\u001b[39m*\u001b[39;49mx\u001b[39m*\u001b[39;49m\u001b[39m*\u001b[39;49m\u001b[39m2\u001b[39;49m\u001b[39m*\u001b[39;49msqrt(x\u001b[39m*\u001b[39;49m\u001b[39m*\u001b[39;49m\u001b[39m2\u001b[39;49m \u001b[39m+\u001b[39;49m y\u001b[39m*\u001b[39;49m\u001b[39m*\u001b[39;49m\u001b[39m2\u001b[39;49m) \u001b[39m+\u001b[39;49m \u001b[39m0.25\u001b[39;49m\u001b[39m*\u001b[39;49my\u001b[39m*\u001b[39;49m\u001b[39m*\u001b[39;49m\u001b[39m2\u001b[39;49m\u001b[39m*\u001b[39;49msqrt(x\u001b[39m*\u001b[39;49m\u001b[39m*\u001b[39;49m\u001b[39m2\u001b[39;49m \u001b[39m+\u001b[39;49m y\u001b[39m*\u001b[39;49m\u001b[39m*\u001b[39;49m\u001b[39m2\u001b[39;49m)), \u001b[39m0\u001b[39;49m], [(\u001b[39m-\u001b[39;49m\u001b[39m1.0\u001b[39;49m\u001b[39m*\u001b[39;49mx\u001b[39m*\u001b[39;49m\u001b[39m*\u001b[39;49m\u001b[39m3\u001b[39;49m\u001b[39m*\u001b[39;49my \u001b[39m-\u001b[39;49m \u001b[39m1.0\u001b[39;49m\u001b[39m*\u001b[39;49mx\u001b[39m*\u001b[39;49my\u001b[39m*\u001b[39;49m\u001b[39m*\u001b[39;49m\u001b[39m3\u001b[39;49m \u001b[39m+\u001b[39;49m \u001b[39m1.0\u001b[39;49m\u001b[39m*\u001b[39;49mx\u001b[39m*\u001b[39;49my)\u001b[39m/\u001b[39;49m(\u001b[39m1.0\u001b[39;49m\u001b[39m*\u001b[39;49mx\u001b[39m*\u001b[39;49m\u001b[39m*\u001b[39;49m\u001b[39m2\u001b[39;49m\u001b[39m*\u001b[39;49msqrt(x\u001b[39m*\u001b[39;49m\u001b[39m*\u001b[39;49m\u001b[39m2\u001b[39;49m \u001b[39m+\u001b[39;49m y\u001b[39m*\u001b[39;49m\u001b[39m*\u001b[39;49m\u001b[39m2\u001b[39;49m) \u001b[39m+\u001b[39;49m \u001b[39m1.0\u001b[39;49m\u001b[39m*\u001b[39;49my\u001b[39m*\u001b[39;49m\u001b[39m*\u001b[39;49m\u001b[39m2\u001b[39;49m\u001b[39m*\u001b[39;49msqrt(x\u001b[39m*\u001b[39;49m\u001b[39m*\u001b[39;49m\u001b[39m2\u001b[39;49m \u001b[39m+\u001b[39;49m y\u001b[39m*\u001b[39;49m\u001b[39m*\u001b[39;49m\u001b[39m2\u001b[39;49m)), (\u001b[39m1.0\u001b[39;49m\u001b[39m*\u001b[39;49mx\u001b[39m*\u001b[39;49m\u001b[39m*\u001b[39;49m\u001b[39m4\u001b[39;49m\u001b[39m*\u001b[39;49msqrt(x\u001b[39m*\u001b[39;49m\u001b[39m*\u001b[39;49m\u001b[39m2\u001b[39;49m \u001b[39m+\u001b[39;49m y\u001b[39m*\u001b[39;49m\u001b[39m*\u001b[39;49m\u001b[39m2\u001b[39;49m) \u001b[39m+\u001b[39;49m \u001b[39m1.0\u001b[39;49m\u001b[39m*\u001b[39;49mx\u001b[39m*\u001b[39;49m\u001b[39m*\u001b[39;49m\u001b[39m2\u001b[39;49m\u001b[39m*\u001b[39;49my\u001b[39m*\u001b[39;49m\u001b[39m*\u001b[39;49m\u001b[39m2\u001b[39;49m\u001b[39m*\u001b[39;49msqrt(x\u001b[39m*\u001b[39;49m\u001b[39m*\u001b[39;49m\u001b[39m2\u001b[39;49m \u001b[39m+\u001b[39;49m y\u001b[39m*\u001b[39;49m\u001b[39m*\u001b[39;49m\u001b[39m2\u001b[39;49m) \u001b[39m+\u001b[39;49m \u001b[39m1.0\u001b[39;49m\u001b[39m*\u001b[39;49my\u001b[39m*\u001b[39;49m\u001b[39m*\u001b[39;49m\u001b[39m2\u001b[39;49m\u001b[39m*\u001b[39;49msqrt(x\u001b[39m*\u001b[39;49m\u001b[39m*\u001b[39;49m\u001b[39m2\u001b[39;49m \u001b[39m+\u001b[39;49m y\u001b[39m*\u001b[39;49m\u001b[39m*\u001b[39;49m\u001b[39m2\u001b[39;49m))\u001b[39m/\u001b[39;49m(\u001b[39m1.0\u001b[39;49m\u001b[39m*\u001b[39;49mx\u001b[39m*\u001b[39;49m\u001b[39m*\u001b[39;49m\u001b[39m4\u001b[39;49m \u001b[39m+\u001b[39;49m \u001b[39m2.0\u001b[39;49m\u001b[39m*\u001b[39;49mx\u001b[39m*\u001b[39;49m\u001b[39m*\u001b[39;49m\u001b[39m2\u001b[39;49m\u001b[39m*\u001b[39;49my\u001b[39m*\u001b[39;49m\u001b[39m*\u001b[39;49m\u001b[39m2\u001b[39;49m \u001b[39m+\u001b[39;49m \u001b[39m1.0\u001b[39;49m\u001b[39m*\u001b[39;49my\u001b[39m*\u001b[39;49m\u001b[39m*\u001b[39;49m\u001b[39m4\u001b[39;49m), \u001b[39m0\u001b[39;49m], [\u001b[39m0\u001b[39;49m, \u001b[39m0\u001b[39;49m, \u001b[39m1.0\u001b[39;49m\u001b[39m/\u001b[39;49msqrt(x\u001b[39m*\u001b[39;49m\u001b[39m*\u001b[39;49m\u001b[39m2\u001b[39;49m \u001b[39m+\u001b[39;49m y\u001b[39m*\u001b[39;49m\u001b[39m*\u001b[39;49m\u001b[39m2\u001b[39;49m)]])\n",
      "\u001b[0;31mValueError\u001b[0m: setting an array element with a sequence. The requested array has an inhomogeneous shape after 2 dimensions. The detected shape was (3, 3) + inhomogeneous part."
     ]
    }
   ],
   "source": [
    "Xe_in = Xe[bool_array_e]\n",
    "Ye_in = Ye[bool_array_e]\n",
    "gij_in_e = func_gij\n",
    "\n",
    "\n",
    "Xh_in = Xh[bool_array_h]\n",
    "Yh_in = Yh[bool_array_h]\n",
    "gij_in_h = func_gij(Xh_in, Yh_in)\n",
    "\n",
    "\n",
    "g_tensor_e[bool_array_e, :, :] = gij_in_e\n",
    "g_tensor_h[bool_array_h, :, :] = gij_in_h"
   ]
  },
  {
   "cell_type": "code",
   "execution_count": 36,
   "metadata": {},
   "outputs": [
    {
     "data": {
      "text/plain": [
       "(0.002010050251256279, 0.002010050251256279)"
      ]
     },
     "execution_count": 36,
     "metadata": {},
     "output_type": "execute_result"
    }
   ],
   "source": [
    "dx = E_points[0][0][1] - E_points[0][0][0]\n",
    "dy = E_points[0][1][1] - E_points[0][1][0]\n",
    "dx, dy"
   ]
  },
  {
   "cell_type": "code",
   "execution_count": 37,
   "metadata": {},
   "outputs": [],
   "source": [
    "E_points, H_points\n",
    "E_field, H_field\n",
    "g_tensor_e, g_tensor_h\n",
    "D_field = E_field"
   ]
  },
  {
   "cell_type": "code",
   "execution_count": 38,
   "metadata": {},
   "outputs": [],
   "source": [
    "from imfdtd.consts import c0, mu0, ep0"
   ]
  },
  {
   "cell_type": "code",
   "execution_count": 39,
   "metadata": {},
   "outputs": [],
   "source": [
    "dt = min(dx, dy)/(2*c0)"
   ]
  },
  {
   "cell_type": "code",
   "execution_count": 40,
   "metadata": {},
   "outputs": [
    {
     "data": {
      "text/plain": [
       "3.3524029668155945e-12"
      ]
     },
     "execution_count": 40,
     "metadata": {},
     "output_type": "execute_result"
    }
   ],
   "source": [
    "D_field[...] = 0\n",
    "E_field[...] = 0\n",
    "H_field[...] = 0\n",
    "\n",
    "i=0\n",
    "t0 =0\n",
    "dt "
   ]
  },
  {
   "cell_type": "code",
   "execution_count": 41,
   "metadata": {},
   "outputs": [],
   "source": [
    "D_field[..., 2] = np.exp(-800*(E_points[0]**2 + E_points[1]**2))\n",
    "\n",
    "E_field = D_field\n",
    "\n",
    "H_field[1:, 1:-1, 0] = H_field[1:, 1:-1, 0] + (-0.5)*np.diff(E_field[..., 2], axis=1)\n",
    "H_field[1:-1, 1:, 1] = H_field[1:-1, 1:, 1] + 0.5*np.diff(E_field[..., 2], axis=0)"
   ]
  },
  {
   "cell_type": "code",
   "execution_count": null,
   "metadata": {},
   "outputs": [],
   "source": []
  },
  {
   "cell_type": "markdown",
   "metadata": {},
   "source": [
    "## Field time evolution\n",
    "\n",
    "$$\\frac{\\partial D_z}{\\partial t} = \\frac{1}{\\sqrt{\\epsilon_0 \\mu_0}}\\left (\\frac{\\partial H_y}{\\partial x} -\\frac{\\partial H_x}{\\partial y}\\right)\\\\\n",
    "E = \\epsilon_r^{-1} D\\\\\n",
    "$$\n",
    "\n"
   ]
  },
  {
   "cell_type": "markdown",
   "metadata": {},
   "source": []
  }
 ],
 "metadata": {
  "kernelspec": {
   "display_name": "Python 3",
   "language": "python",
   "name": "python3"
  },
  "language_info": {
   "codemirror_mode": {
    "name": "ipython",
    "version": 3
   },
   "file_extension": ".py",
   "mimetype": "text/x-python",
   "name": "python",
   "nbconvert_exporter": "python",
   "pygments_lexer": "ipython3",
   "version": "3.11.3"
  },
  "orig_nbformat": 4
 },
 "nbformat": 4,
 "nbformat_minor": 2
}
